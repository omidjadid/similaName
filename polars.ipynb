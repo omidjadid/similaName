{
 "cells": [
  {
   "cell_type": "code",
   "execution_count": 1,
   "id": "91fa02c6-f3ee-44d0-a804-fa9a84c6ed42",
   "metadata": {},
   "outputs": [
    {
     "name": "stdout",
     "output_type": "stream",
     "text": [
      "   A  B  C\n",
      "0  1  5  2\n",
      "1  2  6  3\n",
      "2  3  7  6\n",
      "3  4  8  8\n"
     ]
    }
   ],
   "source": [
    "import pandas as pd\n",
    "\n",
    "# ایجاد یک DataFrame ساده\n",
    "df = pd.DataFrame({\n",
    "    'A': [1, 2, 3, 4],\n",
    "    'B': [5, 6, 7, 8]\n",
    "})\n",
    "\n",
    "# استفاده از lambda برای اعمال شرط در ستون A\n",
    "df['C'] = df['A'].apply(lambda x: x * 2 if x > 2 else x + 1)\n",
    "\n",
    "print(df)\n"
   ]
  },
  {
   "cell_type": "code",
   "execution_count": 2,
   "id": "3ea6c33f-d71c-4080-95f8-3d56afeaf202",
   "metadata": {},
   "outputs": [
    {
     "name": "stdout",
     "output_type": "stream",
     "text": [
      "          a        b         c\n",
      "2 -1.851591 -0.63803 -1.265152\n",
      "4  0.024428  0.52986 -0.838124\n"
     ]
    }
   ],
   "source": [
    "import pandas as pd\n",
    "import numpy as np\n",
    "\n",
    "# ایجاد یک DataFrame نمونه\n",
    "df = pd.DataFrame(np.random.randn(5, 3), columns=['a', 'b', 'c'])\n",
    "\n",
    "# تعریف یک lambda function برای شرط\n",
    "myfilter = lambda x: x['b'] > x['c']\n",
    "\n",
    "# استفاده از lambda در loc برای فیلتر کردن DataFrame\n",
    "df_filtered = df.loc[myfilter]\n",
    "\n",
    "print(df_filtered)\n"
   ]
  },
  {
   "cell_type": "code",
   "execution_count": 4,
   "id": "5f06cb41-4f20-421a-98f8-33aae3cc3913",
   "metadata": {},
   "outputs": [
    {
     "data": {
      "text/html": [
       "<div>\n",
       "<style scoped>\n",
       "    .dataframe tbody tr th:only-of-type {\n",
       "        vertical-align: middle;\n",
       "    }\n",
       "\n",
       "    .dataframe tbody tr th {\n",
       "        vertical-align: top;\n",
       "    }\n",
       "\n",
       "    .dataframe thead th {\n",
       "        text-align: right;\n",
       "    }\n",
       "</style>\n",
       "<table border=\"1\" class=\"dataframe\">\n",
       "  <thead>\n",
       "    <tr style=\"text-align: right;\">\n",
       "      <th></th>\n",
       "      <th>a</th>\n",
       "      <th>b</th>\n",
       "      <th>c</th>\n",
       "    </tr>\n",
       "  </thead>\n",
       "  <tbody>\n",
       "    <tr>\n",
       "      <th>0</th>\n",
       "      <td>0.583599</td>\n",
       "      <td>-0.426938</td>\n",
       "      <td>1.126543</td>\n",
       "    </tr>\n",
       "    <tr>\n",
       "      <th>1</th>\n",
       "      <td>0.781607</td>\n",
       "      <td>-0.256178</td>\n",
       "      <td>1.238041</td>\n",
       "    </tr>\n",
       "    <tr>\n",
       "      <th>2</th>\n",
       "      <td>-1.851591</td>\n",
       "      <td>-0.638030</td>\n",
       "      <td>-1.265152</td>\n",
       "    </tr>\n",
       "    <tr>\n",
       "      <th>3</th>\n",
       "      <td>0.391415</td>\n",
       "      <td>0.422176</td>\n",
       "      <td>1.491604</td>\n",
       "    </tr>\n",
       "    <tr>\n",
       "      <th>4</th>\n",
       "      <td>0.024428</td>\n",
       "      <td>0.529860</td>\n",
       "      <td>-0.838124</td>\n",
       "    </tr>\n",
       "  </tbody>\n",
       "</table>\n",
       "</div>"
      ],
      "text/plain": [
       "          a         b         c\n",
       "0  0.583599 -0.426938  1.126543\n",
       "1  0.781607 -0.256178  1.238041\n",
       "2 -1.851591 -0.638030 -1.265152\n",
       "3  0.391415  0.422176  1.491604\n",
       "4  0.024428  0.529860 -0.838124"
      ]
     },
     "execution_count": 4,
     "metadata": {},
     "output_type": "execute_result"
    }
   ],
   "source": [
    "df"
   ]
  },
  {
   "cell_type": "code",
   "execution_count": 7,
   "id": "73ee4c69-09fa-457d-b499-2f2ce201a2c6",
   "metadata": {},
   "outputs": [
    {
     "name": "stdout",
     "output_type": "stream",
     "text": [
      "[0 1 2 3 4]\n"
     ]
    }
   ],
   "source": [
    "import numpy as np\n",
    "\n",
    "# تولید یک آرایه ده میلیون تایی با فاصله 1\n",
    "large_array = np.arange(10000000)\n",
    "\n",
    "print(large_array[:5])  # چاپ پنج اولین عنصر برای تست\n"
   ]
  },
  {
   "cell_type": "code",
   "execution_count": 10,
   "id": "4ba39925-dfe1-41ef-b45f-739938d76590",
   "metadata": {},
   "outputs": [],
   "source": [
    "import threading\n",
    "\n",
    "# تابعی که مربع یک عدد را محاسبه می‌کند\n",
    "def calc_square(numbers):\n",
    "    for n in numbers:\n",
    "        n*n\n",
    "\n",
    "# تابعی که مکعب یک عدد را محاسبه می‌کند\n",
    "def calc_cube(numbers):\n",
    "    for n in numbers:\n",
    "        n^3\n",
    "\n",
    "# لیست اعداد\n",
    "numbers = np.arange(10000000)\n",
    "\n",
    "# ایجاد دو رشته برای اجرای توابع calc_square و calc_cube به صورت همزمان\n",
    "square_thread = threading.Thread(target=calc_square, args=(numbers,))\n",
    "cube_thread = threading.Thread(target=calc_cube, args=(numbers,))\n",
    "\n",
    "# شروع اجرای رشته‌ها\n",
    "square_thread.start()\n",
    "cube_thread.start()\n",
    "\n",
    "# انتظار برای تکمیل رشته‌ها\n",
    "square_thread.join()\n",
    "cube_thread.join()\n"
   ]
  },
  {
   "cell_type": "code",
   "execution_count": 11,
   "id": "c2aece73-8254-4853-9511-5fe125d9231d",
   "metadata": {},
   "outputs": [
    {
     "name": "stdout",
     "output_type": "stream",
     "text": [
      "0.6111111111111112\n"
     ]
    }
   ],
   "source": [
    "from difflib import SequenceMatcher\n",
    "\n",
    "# دو رشته برای مقایسه\n",
    "str1 = \"Python Programming\"\n",
    "str2 = \"programming python\"\n",
    "\n",
    "# تبدیل هر دو رشته به فرم کوچک\n",
    "str1_lower = str1.lower()\n",
    "str2_lower = str2.lower()\n",
    "\n",
    "# ایجاد یک SequenceMatcher با استفاده از رشته‌های کوچک\n",
    "matcher = SequenceMatcher(None, str1_lower, str2_lower)\n",
    "\n",
    "# محاسبه نسبت تشابه\n",
    "similarity_ratio = matcher.ratio()\n",
    "\n",
    "print(similarity_ratio)\n"
   ]
  },
  {
   "cell_type": "code",
   "execution_count": 12,
   "id": "b43daae1-1ff9-4826-ab93-6fc602431e3b",
   "metadata": {},
   "outputs": [
    {
     "name": "stdout",
     "output_type": "stream",
     "text": [
      "0.6470588235294118\n"
     ]
    }
   ],
   "source": [
    "def remove_spaces(s):\n",
    "    \"\"\"حذف فاصله‌ها از رشته\"\"\"\n",
    "    return s.replace(\" \", \"\")\n",
    "\n",
    "def custom_similarity(str1, str2):\n",
    "    \"\"\"محاسبه شباهت دو رشته با حذف فاصله‌ها\"\"\"\n",
    "    str1_no_spaces = remove_spaces(str1)\n",
    "    str2_no_spaces = remove_spaces(str2)\n",
    "    \n",
    "    # استفاده از SequenceMatcher برای محاسبه شباهت\n",
    "    from difflib import SequenceMatcher\n",
    "    matcher = SequenceMatcher(None, str1_no_spaces, str2_no_spaces)\n",
    "    similarity_ratio = matcher.ratio()\n",
    "    \n",
    "    return similarity_ratio\n",
    "\n",
    "# دو رشته برای مقایسه\n",
    "str1 = \"Python Programming\"\n",
    "str2 = \"Programming python\"\n",
    "\n",
    "# محاسبه شباهت با حذف فاصله‌ها\n",
    "similarity = custom_similarity(str1, str2)\n",
    "\n",
    "print(similarity)\n"
   ]
  },
  {
   "cell_type": "code",
   "execution_count": 13,
   "id": "2ba6457d-6b2e-4758-a096-2c7b14d85345",
   "metadata": {},
   "outputs": [
    {
     "name": "stdout",
     "output_type": "stream",
     "text": [
      "   A  C  D\n",
      "0  1  2 -1\n",
      "1  2  4  0\n",
      "2  3  6  1\n",
      "3  4  8  2\n"
     ]
    }
   ],
   "source": [
    "import pandas as pd\n",
    "\n",
    "# ایجاد یک DataFrame نمونه\n",
    "df = pd.DataFrame({\n",
    "    'A': [1, 2, 3, 4]\n",
    "})\n",
    "\n",
    "# تعریف یک تابع که دو مقدار برمی‌گرداند\n",
    "def my_function(x):\n",
    "    return x * 2, x - 2\n",
    "\n",
    "# استفاده از تابع apply با یک تابع lambda برای اعمال تابع my_function بر روی ستون A\n",
    "results = df['A'].apply(my_function).tolist()\n",
    "\n",
    "# تبدیل نتایج به DataFrame و ذخیره در دو ستون جدید\n",
    "df[['C', 'D']] = pd.DataFrame(results, index=df.index)\n",
    "\n",
    "print(df)\n"
   ]
  },
  {
   "cell_type": "code",
   "execution_count": null,
   "id": "7ffe74ca-c859-4564-93b1-b8da1ac09fb8",
   "metadata": {},
   "outputs": [],
   "source": [
    "@jit(nopython=True)\n",
    "def f(x):\n",
    "    FirstName='omid\n",
    "    return distance(FirstName,x)\n",
    "df['distanceName']=df['FN'].apply(f,engine='numba')"
   ]
  },
  {
   "cell_type": "code",
   "execution_count": 31,
   "id": "fa550252-48cc-46bc-9af4-439116caf705",
   "metadata": {
    "scrolled": true
   },
   "outputs": [
    {
     "ename": "TypeError",
     "evalue": "too many arguments: expected 1, got 2",
     "output_type": "error",
     "traceback": [
      "\u001b[0;31m---------------------------------------------------------------------------\u001b[0m",
      "\u001b[0;31mTypeError\u001b[0m                                 Traceback (most recent call last)",
      "Cell \u001b[0;32mIn[31], line 10\u001b[0m\n\u001b[1;32m      7\u001b[0m     \u001b[38;5;28;01mreturn\u001b[39;00m \u001b[38;5;241m3\u001b[39m\n\u001b[1;32m      9\u001b[0m \u001b[38;5;66;03m# فرض می‌کنیم df یک DataFrame است و ستون 'FN' وجود دارد\u001b[39;00m\n\u001b[0;32m---> 10\u001b[0m df[\u001b[38;5;124m'\u001b[39m\u001b[38;5;124mdistanceName\u001b[39m\u001b[38;5;124m'\u001b[39m] \u001b[38;5;241m=\u001b[39m \u001b[43mdf\u001b[49m\u001b[43m[\u001b[49m\u001b[38;5;124;43m'\u001b[39;49m\u001b[38;5;124;43mFN\u001b[39;49m\u001b[38;5;124;43m'\u001b[39;49m\u001b[43m]\u001b[49m\u001b[38;5;241;43m.\u001b[39;49m\u001b[43mapply\u001b[49m\u001b[43m(\u001b[49m\u001b[43mf\u001b[49m\u001b[43m,\u001b[49m\u001b[43m \u001b[49m\u001b[43mmeta\u001b[49m\u001b[38;5;241;43m=\u001b[39;49m\u001b[43m(\u001b[49m\u001b[38;5;124;43m'\u001b[39;49m\u001b[38;5;124;43mx\u001b[39;49m\u001b[38;5;124;43m'\u001b[39;49m\u001b[43m,\u001b[49m\u001b[43m \u001b[49m\u001b[38;5;124;43m'\u001b[39;49m\u001b[38;5;124;43mf8\u001b[39;49m\u001b[38;5;124;43m'\u001b[39;49m\u001b[43m)\u001b[49m\u001b[43m)\u001b[49m  \u001b[38;5;66;03m# فرض می‌کنیم x یک عدد است\u001b[39;00m\n",
      "File \u001b[0;32m/opt/conda/lib/python3.11/site-packages/pandas/core/series.py:4771\u001b[0m, in \u001b[0;36mSeries.apply\u001b[0;34m(self, func, convert_dtype, args, **kwargs)\u001b[0m\n\u001b[1;32m   4661\u001b[0m \u001b[38;5;28;01mdef\u001b[39;00m \u001b[38;5;21mapply\u001b[39m(\n\u001b[1;32m   4662\u001b[0m     \u001b[38;5;28mself\u001b[39m,\n\u001b[1;32m   4663\u001b[0m     func: AggFuncType,\n\u001b[0;32m   (...)\u001b[0m\n\u001b[1;32m   4666\u001b[0m     \u001b[38;5;241m*\u001b[39m\u001b[38;5;241m*\u001b[39mkwargs,\n\u001b[1;32m   4667\u001b[0m ) \u001b[38;5;241m-\u001b[39m\u001b[38;5;241m>\u001b[39m DataFrame \u001b[38;5;241m|\u001b[39m Series:\n\u001b[1;32m   4668\u001b[0m \u001b[38;5;250m    \u001b[39m\u001b[38;5;124;03m\"\"\"\u001b[39;00m\n\u001b[1;32m   4669\u001b[0m \u001b[38;5;124;03m    Invoke function on values of Series.\u001b[39;00m\n\u001b[1;32m   4670\u001b[0m \n\u001b[0;32m   (...)\u001b[0m\n\u001b[1;32m   4769\u001b[0m \u001b[38;5;124;03m    dtype: float64\u001b[39;00m\n\u001b[1;32m   4770\u001b[0m \u001b[38;5;124;03m    \"\"\"\u001b[39;00m\n\u001b[0;32m-> 4771\u001b[0m     \u001b[38;5;28;01mreturn\u001b[39;00m \u001b[43mSeriesApply\u001b[49m\u001b[43m(\u001b[49m\u001b[38;5;28;43mself\u001b[39;49m\u001b[43m,\u001b[49m\u001b[43m \u001b[49m\u001b[43mfunc\u001b[49m\u001b[43m,\u001b[49m\u001b[43m \u001b[49m\u001b[43mconvert_dtype\u001b[49m\u001b[43m,\u001b[49m\u001b[43m \u001b[49m\u001b[43margs\u001b[49m\u001b[43m,\u001b[49m\u001b[43m \u001b[49m\u001b[43mkwargs\u001b[49m\u001b[43m)\u001b[49m\u001b[38;5;241;43m.\u001b[39;49m\u001b[43mapply\u001b[49m\u001b[43m(\u001b[49m\u001b[43m)\u001b[49m\n",
      "File \u001b[0;32m/opt/conda/lib/python3.11/site-packages/pandas/core/apply.py:1123\u001b[0m, in \u001b[0;36mSeriesApply.apply\u001b[0;34m(self)\u001b[0m\n\u001b[1;32m   1120\u001b[0m     \u001b[38;5;28;01mreturn\u001b[39;00m \u001b[38;5;28mself\u001b[39m\u001b[38;5;241m.\u001b[39mapply_str()\n\u001b[1;32m   1122\u001b[0m \u001b[38;5;66;03m# self.f is Callable\u001b[39;00m\n\u001b[0;32m-> 1123\u001b[0m \u001b[38;5;28;01mreturn\u001b[39;00m \u001b[38;5;28;43mself\u001b[39;49m\u001b[38;5;241;43m.\u001b[39;49m\u001b[43mapply_standard\u001b[49m\u001b[43m(\u001b[49m\u001b[43m)\u001b[49m\n",
      "File \u001b[0;32m/opt/conda/lib/python3.11/site-packages/pandas/core/apply.py:1174\u001b[0m, in \u001b[0;36mSeriesApply.apply_standard\u001b[0;34m(self)\u001b[0m\n\u001b[1;32m   1172\u001b[0m     \u001b[38;5;28;01melse\u001b[39;00m:\n\u001b[1;32m   1173\u001b[0m         values \u001b[38;5;241m=\u001b[39m obj\u001b[38;5;241m.\u001b[39mastype(\u001b[38;5;28mobject\u001b[39m)\u001b[38;5;241m.\u001b[39m_values\n\u001b[0;32m-> 1174\u001b[0m         mapped \u001b[38;5;241m=\u001b[39m \u001b[43mlib\u001b[49m\u001b[38;5;241;43m.\u001b[39;49m\u001b[43mmap_infer\u001b[49m\u001b[43m(\u001b[49m\n\u001b[1;32m   1175\u001b[0m \u001b[43m            \u001b[49m\u001b[43mvalues\u001b[49m\u001b[43m,\u001b[49m\n\u001b[1;32m   1176\u001b[0m \u001b[43m            \u001b[49m\u001b[43mf\u001b[49m\u001b[43m,\u001b[49m\n\u001b[1;32m   1177\u001b[0m \u001b[43m            \u001b[49m\u001b[43mconvert\u001b[49m\u001b[38;5;241;43m=\u001b[39;49m\u001b[38;5;28;43mself\u001b[39;49m\u001b[38;5;241;43m.\u001b[39;49m\u001b[43mconvert_dtype\u001b[49m\u001b[43m,\u001b[49m\n\u001b[1;32m   1178\u001b[0m \u001b[43m        \u001b[49m\u001b[43m)\u001b[49m\n\u001b[1;32m   1180\u001b[0m \u001b[38;5;28;01mif\u001b[39;00m \u001b[38;5;28mlen\u001b[39m(mapped) \u001b[38;5;129;01mand\u001b[39;00m \u001b[38;5;28misinstance\u001b[39m(mapped[\u001b[38;5;241m0\u001b[39m], ABCSeries):\n\u001b[1;32m   1181\u001b[0m     \u001b[38;5;66;03m# GH#43986 Need to do list(mapped) in order to get treated as nested\u001b[39;00m\n\u001b[1;32m   1182\u001b[0m     \u001b[38;5;66;03m#  See also GH#25959 regarding EA support\u001b[39;00m\n\u001b[1;32m   1183\u001b[0m     \u001b[38;5;28;01mreturn\u001b[39;00m obj\u001b[38;5;241m.\u001b[39m_constructor_expanddim(\u001b[38;5;28mlist\u001b[39m(mapped), index\u001b[38;5;241m=\u001b[39mobj\u001b[38;5;241m.\u001b[39mindex)\n",
      "File \u001b[0;32m/opt/conda/lib/python3.11/site-packages/pandas/_libs/lib.pyx:2924\u001b[0m, in \u001b[0;36mpandas._libs.lib.map_infer\u001b[0;34m()\u001b[0m\n",
      "File \u001b[0;32m/opt/conda/lib/python3.11/site-packages/pandas/core/apply.py:142\u001b[0m, in \u001b[0;36mApply.__init__.<locals>.f\u001b[0;34m(x)\u001b[0m\n\u001b[1;32m    141\u001b[0m \u001b[38;5;28;01mdef\u001b[39;00m \u001b[38;5;21mf\u001b[39m(x):\n\u001b[0;32m--> 142\u001b[0m     \u001b[38;5;28;01mreturn\u001b[39;00m \u001b[43mfunc\u001b[49m\u001b[43m(\u001b[49m\u001b[43mx\u001b[49m\u001b[43m,\u001b[49m\u001b[43m \u001b[49m\u001b[38;5;241;43m*\u001b[39;49m\u001b[43margs\u001b[49m\u001b[43m,\u001b[49m\u001b[43m \u001b[49m\u001b[38;5;241;43m*\u001b[39;49m\u001b[38;5;241;43m*\u001b[39;49m\u001b[43mkwargs\u001b[49m\u001b[43m)\u001b[49m\n",
      "\u001b[0;31mTypeError\u001b[0m: too many arguments: expected 1, got 2"
     ]
    }
   ],
   "source": [
    "from numba import jit\n",
    "import math  # فرض می‌کنیم تابع distance وجود دارد\n",
    "\n",
    "@jit(nopython=True)\n",
    "def f(x):\n",
    "    FirstName = 'omid'\n",
    "    return distance(FirstName, x)\n",
    "\n",
    "# فرض می‌کنیم df یک DataFrame است و ستون 'FN' وجود دارد\n",
    "df['distanceName'] = df['FN'].apply(f, meta=('x', 'f8'))  # فرض می‌کنیم x یک عدد است\n"
   ]
  },
  {
   "cell_type": "code",
   "execution_count": 30,
   "id": "7d1af6e8-0f19-4d06-abed-7e9412f1e3f4",
   "metadata": {},
   "outputs": [
    {
     "ename": "TypingError",
     "evalue": "Failed in nopython mode pipeline (step: nopython frontend)\n\u001b[1mNameError: name 'distance' is not defined\u001b[0m",
     "output_type": "error",
     "traceback": [
      "\u001b[0;31m---------------------------------------------------------------------------\u001b[0m",
      "\u001b[0;31mTypingError\u001b[0m                               Traceback (most recent call last)",
      "Cell \u001b[0;32mIn[30], line 15\u001b[0m\n\u001b[1;32m     10\u001b[0m df \u001b[38;5;241m=\u001b[39m pd\u001b[38;5;241m.\u001b[39mDataFrame({\n\u001b[1;32m     11\u001b[0m     \u001b[38;5;124m'\u001b[39m\u001b[38;5;124mFN\u001b[39m\u001b[38;5;124m'\u001b[39m: [\u001b[38;5;124m'\u001b[39m\u001b[38;5;124mAli\u001b[39m\u001b[38;5;124m'\u001b[39m, \u001b[38;5;124m'\u001b[39m\u001b[38;5;124mReza\u001b[39m\u001b[38;5;124m'\u001b[39m, \u001b[38;5;124m'\u001b[39m\u001b[38;5;124mSara\u001b[39m\u001b[38;5;124m'\u001b[39m]\n\u001b[1;32m     12\u001b[0m })\n\u001b[1;32m     14\u001b[0m \u001b[38;5;66;03m# اعمال تابع f بر روی ستون 'FN'\u001b[39;00m\n\u001b[0;32m---> 15\u001b[0m df[\u001b[38;5;124m'\u001b[39m\u001b[38;5;124mdistanceName\u001b[39m\u001b[38;5;124m'\u001b[39m] \u001b[38;5;241m=\u001b[39m \u001b[43mdf\u001b[49m\u001b[43m[\u001b[49m\u001b[38;5;124;43m'\u001b[39;49m\u001b[38;5;124;43mFN\u001b[39;49m\u001b[38;5;124;43m'\u001b[39;49m\u001b[43m]\u001b[49m\u001b[38;5;241;43m.\u001b[39;49m\u001b[43mmap\u001b[49m\u001b[43m(\u001b[49m\u001b[38;5;28;43;01mlambda\u001b[39;49;00m\u001b[43m \u001b[49m\u001b[43mx\u001b[49m\u001b[43m:\u001b[49m\u001b[43m \u001b[49m\u001b[43mf\u001b[49m\u001b[43m(\u001b[49m\u001b[43mx\u001b[49m\u001b[43m)\u001b[49m\u001b[43m)\u001b[49m\n\u001b[1;32m     17\u001b[0m \u001b[38;5;66;03m# چاپ DataFrame به روزرسانی شده\u001b[39;00m\n\u001b[1;32m     18\u001b[0m \u001b[38;5;28mprint\u001b[39m(df)\n",
      "File \u001b[0;32m/opt/conda/lib/python3.11/site-packages/pandas/core/series.py:4539\u001b[0m, in \u001b[0;36mSeries.map\u001b[0;34m(self, arg, na_action)\u001b[0m\n\u001b[1;32m   4460\u001b[0m \u001b[38;5;28;01mdef\u001b[39;00m \u001b[38;5;21mmap\u001b[39m(\n\u001b[1;32m   4461\u001b[0m     \u001b[38;5;28mself\u001b[39m,\n\u001b[1;32m   4462\u001b[0m     arg: Callable \u001b[38;5;241m|\u001b[39m Mapping \u001b[38;5;241m|\u001b[39m Series,\n\u001b[1;32m   4463\u001b[0m     na_action: Literal[\u001b[38;5;124m\"\u001b[39m\u001b[38;5;124mignore\u001b[39m\u001b[38;5;124m\"\u001b[39m] \u001b[38;5;241m|\u001b[39m \u001b[38;5;28;01mNone\u001b[39;00m \u001b[38;5;241m=\u001b[39m \u001b[38;5;28;01mNone\u001b[39;00m,\n\u001b[1;32m   4464\u001b[0m ) \u001b[38;5;241m-\u001b[39m\u001b[38;5;241m>\u001b[39m Series:\n\u001b[1;32m   4465\u001b[0m \u001b[38;5;250m    \u001b[39m\u001b[38;5;124;03m\"\"\"\u001b[39;00m\n\u001b[1;32m   4466\u001b[0m \u001b[38;5;124;03m    Map values of Series according to an input mapping or function.\u001b[39;00m\n\u001b[1;32m   4467\u001b[0m \n\u001b[0;32m   (...)\u001b[0m\n\u001b[1;32m   4537\u001b[0m \u001b[38;5;124;03m    dtype: object\u001b[39;00m\n\u001b[1;32m   4538\u001b[0m \u001b[38;5;124;03m    \"\"\"\u001b[39;00m\n\u001b[0;32m-> 4539\u001b[0m     new_values \u001b[38;5;241m=\u001b[39m \u001b[38;5;28;43mself\u001b[39;49m\u001b[38;5;241;43m.\u001b[39;49m\u001b[43m_map_values\u001b[49m\u001b[43m(\u001b[49m\u001b[43marg\u001b[49m\u001b[43m,\u001b[49m\u001b[43m \u001b[49m\u001b[43mna_action\u001b[49m\u001b[38;5;241;43m=\u001b[39;49m\u001b[43mna_action\u001b[49m\u001b[43m)\u001b[49m\n\u001b[1;32m   4540\u001b[0m     \u001b[38;5;28;01mreturn\u001b[39;00m \u001b[38;5;28mself\u001b[39m\u001b[38;5;241m.\u001b[39m_constructor(new_values, index\u001b[38;5;241m=\u001b[39m\u001b[38;5;28mself\u001b[39m\u001b[38;5;241m.\u001b[39mindex)\u001b[38;5;241m.\u001b[39m__finalize__(\n\u001b[1;32m   4541\u001b[0m         \u001b[38;5;28mself\u001b[39m, method\u001b[38;5;241m=\u001b[39m\u001b[38;5;124m\"\u001b[39m\u001b[38;5;124mmap\u001b[39m\u001b[38;5;124m\"\u001b[39m\n\u001b[1;32m   4542\u001b[0m     )\n",
      "File \u001b[0;32m/opt/conda/lib/python3.11/site-packages/pandas/core/base.py:890\u001b[0m, in \u001b[0;36mIndexOpsMixin._map_values\u001b[0;34m(self, mapper, na_action)\u001b[0m\n\u001b[1;32m    887\u001b[0m         \u001b[38;5;28;01mraise\u001b[39;00m \u001b[38;5;167;01mValueError\u001b[39;00m(msg)\n\u001b[1;32m    889\u001b[0m \u001b[38;5;66;03m# mapper is a function\u001b[39;00m\n\u001b[0;32m--> 890\u001b[0m new_values \u001b[38;5;241m=\u001b[39m \u001b[43mmap_f\u001b[49m\u001b[43m(\u001b[49m\u001b[43mvalues\u001b[49m\u001b[43m,\u001b[49m\u001b[43m \u001b[49m\u001b[43mmapper\u001b[49m\u001b[43m)\u001b[49m\n\u001b[1;32m    892\u001b[0m \u001b[38;5;28;01mreturn\u001b[39;00m new_values\n",
      "File \u001b[0;32m/opt/conda/lib/python3.11/site-packages/pandas/_libs/lib.pyx:2924\u001b[0m, in \u001b[0;36mpandas._libs.lib.map_infer\u001b[0;34m()\u001b[0m\n",
      "Cell \u001b[0;32mIn[30], line 15\u001b[0m, in \u001b[0;36m<lambda>\u001b[0;34m(x)\u001b[0m\n\u001b[1;32m     10\u001b[0m df \u001b[38;5;241m=\u001b[39m pd\u001b[38;5;241m.\u001b[39mDataFrame({\n\u001b[1;32m     11\u001b[0m     \u001b[38;5;124m'\u001b[39m\u001b[38;5;124mFN\u001b[39m\u001b[38;5;124m'\u001b[39m: [\u001b[38;5;124m'\u001b[39m\u001b[38;5;124mAli\u001b[39m\u001b[38;5;124m'\u001b[39m, \u001b[38;5;124m'\u001b[39m\u001b[38;5;124mReza\u001b[39m\u001b[38;5;124m'\u001b[39m, \u001b[38;5;124m'\u001b[39m\u001b[38;5;124mSara\u001b[39m\u001b[38;5;124m'\u001b[39m]\n\u001b[1;32m     12\u001b[0m })\n\u001b[1;32m     14\u001b[0m \u001b[38;5;66;03m# اعمال تابع f بر روی ستون 'FN'\u001b[39;00m\n\u001b[0;32m---> 15\u001b[0m df[\u001b[38;5;124m'\u001b[39m\u001b[38;5;124mdistanceName\u001b[39m\u001b[38;5;124m'\u001b[39m] \u001b[38;5;241m=\u001b[39m df[\u001b[38;5;124m'\u001b[39m\u001b[38;5;124mFN\u001b[39m\u001b[38;5;124m'\u001b[39m]\u001b[38;5;241m.\u001b[39mmap(\u001b[38;5;28;01mlambda\u001b[39;00m x: \u001b[43mf\u001b[49m\u001b[43m(\u001b[49m\u001b[43mx\u001b[49m\u001b[43m)\u001b[49m)\n\u001b[1;32m     17\u001b[0m \u001b[38;5;66;03m# چاپ DataFrame به روزرسانی شده\u001b[39;00m\n\u001b[1;32m     18\u001b[0m \u001b[38;5;28mprint\u001b[39m(df)\n",
      "File \u001b[0;32m/opt/conda/lib/python3.11/site-packages/numba/core/dispatcher.py:468\u001b[0m, in \u001b[0;36m_DispatcherBase._compile_for_args\u001b[0;34m(self, *args, **kws)\u001b[0m\n\u001b[1;32m    464\u001b[0m         msg \u001b[38;5;241m=\u001b[39m (\u001b[38;5;124mf\u001b[39m\u001b[38;5;124m\"\u001b[39m\u001b[38;5;132;01m{\u001b[39;00m\u001b[38;5;28mstr\u001b[39m(e)\u001b[38;5;241m.\u001b[39mrstrip()\u001b[38;5;132;01m}\u001b[39;00m\u001b[38;5;124m \u001b[39m\u001b[38;5;130;01m\\n\u001b[39;00m\u001b[38;5;130;01m\\n\u001b[39;00m\u001b[38;5;124mThis error may have been caused \u001b[39m\u001b[38;5;124m\"\u001b[39m\n\u001b[1;32m    465\u001b[0m                \u001b[38;5;124mf\u001b[39m\u001b[38;5;124m\"\u001b[39m\u001b[38;5;124mby the following argument(s):\u001b[39m\u001b[38;5;130;01m\\n\u001b[39;00m\u001b[38;5;132;01m{\u001b[39;00margs_str\u001b[38;5;132;01m}\u001b[39;00m\u001b[38;5;130;01m\\n\u001b[39;00m\u001b[38;5;124m\"\u001b[39m)\n\u001b[1;32m    466\u001b[0m         e\u001b[38;5;241m.\u001b[39mpatch_message(msg)\n\u001b[0;32m--> 468\u001b[0m     \u001b[43merror_rewrite\u001b[49m\u001b[43m(\u001b[49m\u001b[43me\u001b[49m\u001b[43m,\u001b[49m\u001b[43m \u001b[49m\u001b[38;5;124;43m'\u001b[39;49m\u001b[38;5;124;43mtyping\u001b[39;49m\u001b[38;5;124;43m'\u001b[39;49m\u001b[43m)\u001b[49m\n\u001b[1;32m    469\u001b[0m \u001b[38;5;28;01mexcept\u001b[39;00m errors\u001b[38;5;241m.\u001b[39mUnsupportedError \u001b[38;5;28;01mas\u001b[39;00m e:\n\u001b[1;32m    470\u001b[0m     \u001b[38;5;66;03m# Something unsupported is present in the user code, add help info\u001b[39;00m\n\u001b[1;32m    471\u001b[0m     error_rewrite(e, \u001b[38;5;124m'\u001b[39m\u001b[38;5;124munsupported_error\u001b[39m\u001b[38;5;124m'\u001b[39m)\n",
      "File \u001b[0;32m/opt/conda/lib/python3.11/site-packages/numba/core/dispatcher.py:409\u001b[0m, in \u001b[0;36m_DispatcherBase._compile_for_args.<locals>.error_rewrite\u001b[0;34m(e, issue_type)\u001b[0m\n\u001b[1;32m    407\u001b[0m     \u001b[38;5;28;01mraise\u001b[39;00m e\n\u001b[1;32m    408\u001b[0m \u001b[38;5;28;01melse\u001b[39;00m:\n\u001b[0;32m--> 409\u001b[0m     \u001b[38;5;28;01mraise\u001b[39;00m e\u001b[38;5;241m.\u001b[39mwith_traceback(\u001b[38;5;28;01mNone\u001b[39;00m)\n",
      "\u001b[0;31mTypingError\u001b[0m: Failed in nopython mode pipeline (step: nopython frontend)\n\u001b[1mNameError: name 'distance' is not defined\u001b[0m"
     ]
    }
   ],
   "source": [
    "from numba import jit\n",
    "import pandas as pd\n",
    "\n",
    "@jit(nopython=True)\n",
    "def f(x):\n",
    "    FirstName = 'omid'\n",
    "    return distance(FirstName, x)  # فرض می‌کنیم تابع distance وجود دارد و با Numba سازگار است\n",
    "\n",
    "# ایجاد یک DataFrame نمونه\n",
    "df = pd.DataFrame({\n",
    "    'FN': ['Ali', 'Reza', 'Sara']\n",
    "})\n",
    "\n",
    "# اعمال تابع f بر روی ستون 'FN'\n",
    "df['distanceName'] = df['FN'].map(lambda x: f(x))\n",
    "\n",
    "# چاپ DataFrame به روزرسانی شده\n",
    "print(df)\n"
   ]
  },
  {
   "cell_type": "code",
   "execution_count": 18,
   "id": "2da4c94e-c51f-4b8d-9f0b-cecdbd5c836e",
   "metadata": {
    "scrolled": true
   },
   "outputs": [
    {
     "ename": "ValueError",
     "evalue": "invalid literal for int() with base 2: '00011001000300200100001000'",
     "output_type": "error",
     "traceback": [
      "\u001b[0;31m---------------------------------------------------------------------------\u001b[0m",
      "\u001b[0;31mValueError\u001b[0m                                Traceback (most recent call last)",
      "Cell \u001b[0;32mIn[18], line 24\u001b[0m\n\u001b[1;32m     22\u001b[0m \u001b[38;5;66;03m# مثال استفاده\u001b[39;00m\n\u001b[1;32m     23\u001b[0m s \u001b[38;5;241m=\u001b[39m \u001b[38;5;124m\"\u001b[39m\u001b[38;5;124mHello World\u001b[39m\u001b[38;5;124m\"\u001b[39m\n\u001b[0;32m---> 24\u001b[0m vector_num \u001b[38;5;241m=\u001b[39m \u001b[43mstring_to_vector\u001b[49m\u001b[43m(\u001b[49m\u001b[43ms\u001b[49m\u001b[43m)\u001b[49m\n\u001b[1;32m     25\u001b[0m \u001b[38;5;28mprint\u001b[39m(vector_num)\n",
      "Cell \u001b[0;32mIn[18], line 18\u001b[0m, in \u001b[0;36mstring_to_vector\u001b[0;34m(s)\u001b[0m\n\u001b[1;32m     15\u001b[0m     vector[index] \u001b[38;5;241m=\u001b[39m count\n\u001b[1;32m     17\u001b[0m \u001b[38;5;66;03m# تبدیل بردار به یک عدد\u001b[39;00m\n\u001b[0;32m---> 18\u001b[0m num \u001b[38;5;241m=\u001b[39m \u001b[38;5;28;43mint\u001b[39;49m\u001b[43m(\u001b[49m\u001b[38;5;124;43m'\u001b[39;49m\u001b[38;5;124;43m'\u001b[39;49m\u001b[38;5;241;43m.\u001b[39;49m\u001b[43mjoin\u001b[49m\u001b[43m(\u001b[49m\u001b[38;5;28;43mmap\u001b[39;49m\u001b[43m(\u001b[49m\u001b[38;5;28;43mstr\u001b[39;49m\u001b[43m,\u001b[49m\u001b[43m \u001b[49m\u001b[43mvector\u001b[49m\u001b[43m)\u001b[49m\u001b[43m)\u001b[49m\u001b[43m,\u001b[49m\u001b[43m \u001b[49m\u001b[38;5;241;43m2\u001b[39;49m\u001b[43m)\u001b[49m\n\u001b[1;32m     20\u001b[0m \u001b[38;5;28;01mreturn\u001b[39;00m num\n",
      "\u001b[0;31mValueError\u001b[0m: invalid literal for int() with base 2: '00011001000300200100001000'"
     ]
    }
   ],
   "source": [
    "def string_to_vector(s):\n",
    "    # ایجاد یک دیکشنری برای نگهداری تعداد حضور هر حرف\n",
    "    count_dict = {}\n",
    "    for char in s:\n",
    "        if char.isalpha():  # اطمینان حاصل می‌کنیم که فقط حروف انگلیسی را در نظر بگیریم\n",
    "            if char.lower() in count_dict:\n",
    "                count_dict[char.lower()] += 1\n",
    "            else:\n",
    "                count_dict[char.lower()] = 1\n",
    "    \n",
    "    # ایجاد یک بردار با استفاده از تعداد حضور هر حرف\n",
    "    vector = [0] * 26  # 26 حرف انگلیسی\n",
    "    for char, count in count_dict.items():\n",
    "        index = ord(char) - ord('a')  # محاسبه اندیس حرف در بردار\n",
    "        vector[index] = count\n",
    "    \n",
    "    # تبدیل بردار به یک عدد\n",
    "    num = int(''.join(map(str, vector)), 2)\n",
    "    \n",
    "    return num\n",
    "\n",
    "# مثال استفاده\n",
    "s = \"Hello World\"\n",
    "vector_num = string_to_vector(s)\n",
    "print(vector_num)\n"
   ]
  },
  {
   "cell_type": "code",
   "execution_count": 20,
   "id": "98a9beaa-f379-42e5-8a4e-051297270f49",
   "metadata": {
    "scrolled": true
   },
   "outputs": [
    {
     "ename": "ValueError",
     "evalue": "invalid literal for int() with base 2: '0132'",
     "output_type": "error",
     "traceback": [
      "\u001b[0;31m---------------------------------------------------------------------------\u001b[0m",
      "\u001b[0;31mValueError\u001b[0m                                Traceback (most recent call last)",
      "Cell \u001b[0;32mIn[20], line 30\u001b[0m\n\u001b[1;32m     28\u001b[0m \u001b[38;5;66;03m# مثال استفاده\u001b[39;00m\n\u001b[1;32m     29\u001b[0m s \u001b[38;5;241m=\u001b[39m \u001b[38;5;124m\"\u001b[39m\u001b[38;5;124mHello World\u001b[39m\u001b[38;5;124m\"\u001b[39m\n\u001b[0;32m---> 30\u001b[0m vector_num \u001b[38;5;241m=\u001b[39m \u001b[43mstring_to_vector_no_duplicates\u001b[49m\u001b[43m(\u001b[49m\u001b[43ms\u001b[49m\u001b[43m)\u001b[49m\n\u001b[1;32m     31\u001b[0m \u001b[38;5;28mprint\u001b[39m(vector_num)\n",
      "Cell \u001b[0;32mIn[20], line 24\u001b[0m, in \u001b[0;36mstring_to_vector_no_duplicates\u001b[0;34m(s)\u001b[0m\n\u001b[1;32m     21\u001b[0m         unique_vector\u001b[38;5;241m.\u001b[39mappend(item)\n\u001b[1;32m     23\u001b[0m \u001b[38;5;66;03m# تبدیل بردار به یک عدد\u001b[39;00m\n\u001b[0;32m---> 24\u001b[0m num \u001b[38;5;241m=\u001b[39m \u001b[38;5;28;43mint\u001b[39;49m\u001b[43m(\u001b[49m\u001b[38;5;124;43m'\u001b[39;49m\u001b[38;5;124;43m'\u001b[39;49m\u001b[38;5;241;43m.\u001b[39;49m\u001b[43mjoin\u001b[49m\u001b[43m(\u001b[49m\u001b[38;5;28;43mmap\u001b[39;49m\u001b[43m(\u001b[49m\u001b[38;5;28;43mstr\u001b[39;49m\u001b[43m,\u001b[49m\u001b[43m \u001b[49m\u001b[43munique_vector\u001b[49m\u001b[43m)\u001b[49m\u001b[43m)\u001b[49m\u001b[43m,\u001b[49m\u001b[43m \u001b[49m\u001b[38;5;241;43m2\u001b[39;49m\u001b[43m)\u001b[49m\n\u001b[1;32m     26\u001b[0m \u001b[38;5;28;01mreturn\u001b[39;00m num\n",
      "\u001b[0;31mValueError\u001b[0m: invalid literal for int() with base 2: '0132'"
     ]
    }
   ],
   "source": [
    "def string_to_vector_no_duplicates(s):\n",
    "    # ایجاد یک دیکشنری برای نگهداری تعداد حضور هر حرف\n",
    "    count_dict = {}\n",
    "    for char in s:\n",
    "        if char.isalpha():  # اطمینان حاصل می‌کنیم که فقط حروف انگلیسی را در نظر بگیریم\n",
    "            if char.lower() in count_dict:\n",
    "                count_dict[char.lower()] += 1\n",
    "            else:\n",
    "                count_dict[char.lower()] = 1\n",
    "    \n",
    "    # ایجاد یک بردار با استفاده از تعداد حضور هر حرف\n",
    "    vector = [0] * 26  # 26 حرف انگلیسی\n",
    "    for char, count in count_dict.items():\n",
    "        index = ord(char) - ord('a')  # محاسبه اندیس حرف در بردار\n",
    "        vector[index] = count\n",
    "    \n",
    "    # حذف مقادیر تکراری از بردار\n",
    "    unique_vector = []\n",
    "    for item in vector:\n",
    "        if item not in unique_vector:\n",
    "            unique_vector.append(item)\n",
    "    \n",
    "    # تبدیل بردار به یک عدد\n",
    "    num = int(''.join(map(str, unique_vector)), 2)\n",
    "    \n",
    "    return num\n",
    "\n",
    "# مثال استفاده\n",
    "s = \"Hello World\"\n",
    "vector_num = string_to_vector_no_duplicates(s)\n",
    "print(vector_num)\n"
   ]
  },
  {
   "cell_type": "code",
   "execution_count": 22,
   "id": "f28c72ce-a3df-4a03-ae0d-69b0411d9bd6",
   "metadata": {},
   "outputs": [
    {
     "name": "stdout",
     "output_type": "stream",
     "text": [
      "[0, 0, 0, 1, 1, 0, 0, 1, 0, 0, 0, 1, 0, 0, 1, 0, 0, 1, 0, 0, 0, 0, 1, 0, 0, 0]\n",
      "6572296\n"
     ]
    }
   ],
   "source": [
    "def string_to_binary_vector(s):\n",
    "    # ایجاد یک بردار خالی با طول 26\n",
    "    binary_vector = [0] * 26\n",
    "    \n",
    "    # بررسی هر حرف انگلیسی در رشته\n",
    "    for char in s:\n",
    "        if char.isalpha():  # اطمینان حاصل می‌کنیم که فقط حروف انگلیسی را در نظر بگیریم\n",
    "            index = ord(char.lower()) - ord('a')  # محاسبه اندیس حرف در بردار\n",
    "            binary_vector[index] = 1  # مقدار اندیس مربوطه را به 1 تنظیم می‌کنیم\n",
    "            \n",
    "    # تبدیل بردار به یک عدد باینری\n",
    "    print(binary_vector)\n",
    "    num = int(''.join(map(str, binary_vector)), 2)\n",
    "    \n",
    "    return num\n",
    "\n",
    "# مثال استفاده\n",
    "s = \"Hello World\"\n",
    "binary_vector_num = string_to_binary_vector(s)\n",
    "print(binary_vector_num)\n"
   ]
  },
  {
   "cell_type": "code",
   "execution_count": 24,
   "id": "ac0aecf2-3143-4434-b03d-0cfb912629fa",
   "metadata": {},
   "outputs": [
    {
     "name": "stdout",
     "output_type": "stream",
     "text": [
      "0b11001000100100100001000\n",
      "6572296\n"
     ]
    }
   ],
   "source": [
    "a = 6572296\n",
    "# Base 2(binary)\n",
    "bin_a = bin(a)\n",
    "print(bin_a)\n",
    "print(int(bin_a, 2)) #Base 2(binary)\n"
   ]
  },
  {
   "cell_type": "code",
   "execution_count": 26,
   "id": "59151693-6495-40f2-a7ce-54592784cef0",
   "metadata": {},
   "outputs": [
    {
     "name": "stdout",
     "output_type": "stream",
     "text": [
      "11001000100100100001000\n",
      "7\n"
     ]
    }
   ],
   "source": [
    "# تبدیل عدد دهدهی به باینری\n",
    "def decimal_to_binary(decimal_num):\n",
    "    binary_str = bin(decimal_num).replace(\"0b\", \"\")\n",
    "    return binary_str\n",
    "\n",
    "# تبدیل عدد باینری به دهدهی\n",
    "def binary_to_decimal(binary_str):\n",
    "    decimal_num = int(binary_str, 2)\n",
    "    return decimal_num\n",
    "\n",
    "# مثال استفاده\n",
    "print(decimal_to_binary(6572296))  # prints 111\n",
    "print(binary_to_decimal(\"111\"))  # prints 7\n"
   ]
  },
  {
   "cell_type": "code",
   "execution_count": 29,
   "id": "9260c758-5dc8-456b-97eb-99f2b64b767c",
   "metadata": {},
   "outputs": [
    {
     "name": "stdout",
     "output_type": "stream",
     "text": [
      "1101\n"
     ]
    }
   ],
   "source": [
    "decimal_number = 13  # یک عدد دهدهی\n",
    "binary_number = bin(decimal_number).replace(\"0b\", \"\")\n",
    "print(binary_number)  # Output: 1101\n"
   ]
  },
  {
   "cell_type": "code",
   "execution_count": 32,
   "id": "dd650fff-be88-4410-9ccb-e502550301fe",
   "metadata": {},
   "outputs": [
    {
     "name": "stdout",
     "output_type": "stream",
     "text": [
      "      name  age gender\n",
      "0    Alice   26      F\n",
      "1      Bob   30      M\n",
      "2  Charlie   35      M\n"
     ]
    }
   ],
   "source": [
    "import pandas as pd\n",
    "\n",
    "# ایجاد یک DataFrame نمونه\n",
    "data = {\n",
    "    'name': ['Alice', 'Bob', 'Charlie'],\n",
    "    'age': [25, 30, 35],\n",
    "    'gender': ['F', 'M', 'M']\n",
    "}\n",
    "df = pd.DataFrame(data)\n",
    "\n",
    "# بروزرسانی مقدار یک سلول با استفاده از.at\n",
    "df.at[0, 'age'] = 26\n",
    "\n",
    "# یا با استفاده از.iat\n",
    "df.iat[0, 1] = 26\n",
    "\n",
    "print(df)\n"
   ]
  },
  {
   "cell_type": "code",
   "execution_count": 35,
   "id": "1913707c-0d01-4726-bc20-3543e0c2cf46",
   "metadata": {},
   "outputs": [
    {
     "name": "stdout",
     "output_type": "stream",
     "text": [
      "20624\n",
      "00001001000100100000000000\n"
     ]
    },
    {
     "data": {
      "text/plain": [
       "20624"
      ]
     },
     "execution_count": 35,
     "metadata": {},
     "output_type": "execute_result"
    }
   ],
   "source": [
    "import pandas as pd\n",
    "\n",
    "# تعریف DataFrame df_A_Z\n",
    "ذ = pd.DataFrame({\n",
    "    'Letter': [chr(i+97) for i in range(26)],\n",
    "    'Value1': [0]*26,\n",
    "    'Value2': [0]*26\n",
    "})\n",
    "\n",
    "# def update_values(letter, counts):\n",
    "#     return df_A_Z.apply(lambda x: x if x!= letter else counts, axis=1)\n",
    "\n",
    "def string_to_binary_vector(s, counts):\n",
    "    binary_vector = [0] * 26\n",
    "    l = 0\n",
    "    \n",
    "    for char in s:\n",
    "        if char.isalpha():\n",
    "            index = ord(char.lower()) - ord('a')\n",
    "            binary_vector[index] = 1\n",
    "            l += (2**index)\n",
    "            \n",
    "            # بروزرسانی مقادیر در df_A_Z\n",
    "            df_A_Z.loc[df_A_Z['Letter'] == char, 'Value1'] += 1\n",
    "            df_A_Z.loc[df_A_Z['Letter'] == char, 'Value2'] += counts\n",
    "            \n",
    "    print(l)\n",
    "    num = ''.join(map(str, binary_vector))\n",
    "    print(num)\n",
    "    \n",
    "    return l\n",
    "\n",
    "# تست کد\n",
    "s = \"Hello\"\n",
    "counts = 10\n",
    "string_to_binary_vector(s, counts)\n"
   ]
  },
  {
   "cell_type": "code",
   "execution_count": 34,
   "id": "25ab10d2-4c9d-4933-a76c-7481d1128182",
   "metadata": {
    "scrolled": true
   },
   "outputs": [
    {
     "data": {
      "text/html": [
       "<div>\n",
       "<style scoped>\n",
       "    .dataframe tbody tr th:only-of-type {\n",
       "        vertical-align: middle;\n",
       "    }\n",
       "\n",
       "    .dataframe tbody tr th {\n",
       "        vertical-align: top;\n",
       "    }\n",
       "\n",
       "    .dataframe thead th {\n",
       "        text-align: right;\n",
       "    }\n",
       "</style>\n",
       "<table border=\"1\" class=\"dataframe\">\n",
       "  <thead>\n",
       "    <tr style=\"text-align: right;\">\n",
       "      <th></th>\n",
       "      <th>Letter</th>\n",
       "      <th>Value1</th>\n",
       "      <th>Value2</th>\n",
       "    </tr>\n",
       "  </thead>\n",
       "  <tbody>\n",
       "    <tr>\n",
       "      <th>0</th>\n",
       "      <td>a</td>\n",
       "      <td>0</td>\n",
       "      <td>0</td>\n",
       "    </tr>\n",
       "    <tr>\n",
       "      <th>1</th>\n",
       "      <td>b</td>\n",
       "      <td>0</td>\n",
       "      <td>0</td>\n",
       "    </tr>\n",
       "    <tr>\n",
       "      <th>2</th>\n",
       "      <td>c</td>\n",
       "      <td>0</td>\n",
       "      <td>0</td>\n",
       "    </tr>\n",
       "    <tr>\n",
       "      <th>3</th>\n",
       "      <td>d</td>\n",
       "      <td>0</td>\n",
       "      <td>0</td>\n",
       "    </tr>\n",
       "    <tr>\n",
       "      <th>4</th>\n",
       "      <td>e</td>\n",
       "      <td>1</td>\n",
       "      <td>10</td>\n",
       "    </tr>\n",
       "    <tr>\n",
       "      <th>5</th>\n",
       "      <td>f</td>\n",
       "      <td>0</td>\n",
       "      <td>0</td>\n",
       "    </tr>\n",
       "    <tr>\n",
       "      <th>6</th>\n",
       "      <td>g</td>\n",
       "      <td>0</td>\n",
       "      <td>0</td>\n",
       "    </tr>\n",
       "    <tr>\n",
       "      <th>7</th>\n",
       "      <td>h</td>\n",
       "      <td>0</td>\n",
       "      <td>0</td>\n",
       "    </tr>\n",
       "    <tr>\n",
       "      <th>8</th>\n",
       "      <td>i</td>\n",
       "      <td>0</td>\n",
       "      <td>0</td>\n",
       "    </tr>\n",
       "    <tr>\n",
       "      <th>9</th>\n",
       "      <td>j</td>\n",
       "      <td>0</td>\n",
       "      <td>0</td>\n",
       "    </tr>\n",
       "    <tr>\n",
       "      <th>10</th>\n",
       "      <td>k</td>\n",
       "      <td>0</td>\n",
       "      <td>0</td>\n",
       "    </tr>\n",
       "    <tr>\n",
       "      <th>11</th>\n",
       "      <td>l</td>\n",
       "      <td>2</td>\n",
       "      <td>20</td>\n",
       "    </tr>\n",
       "    <tr>\n",
       "      <th>12</th>\n",
       "      <td>m</td>\n",
       "      <td>0</td>\n",
       "      <td>0</td>\n",
       "    </tr>\n",
       "    <tr>\n",
       "      <th>13</th>\n",
       "      <td>n</td>\n",
       "      <td>0</td>\n",
       "      <td>0</td>\n",
       "    </tr>\n",
       "    <tr>\n",
       "      <th>14</th>\n",
       "      <td>o</td>\n",
       "      <td>1</td>\n",
       "      <td>10</td>\n",
       "    </tr>\n",
       "    <tr>\n",
       "      <th>15</th>\n",
       "      <td>p</td>\n",
       "      <td>0</td>\n",
       "      <td>0</td>\n",
       "    </tr>\n",
       "    <tr>\n",
       "      <th>16</th>\n",
       "      <td>q</td>\n",
       "      <td>0</td>\n",
       "      <td>0</td>\n",
       "    </tr>\n",
       "    <tr>\n",
       "      <th>17</th>\n",
       "      <td>r</td>\n",
       "      <td>0</td>\n",
       "      <td>0</td>\n",
       "    </tr>\n",
       "    <tr>\n",
       "      <th>18</th>\n",
       "      <td>s</td>\n",
       "      <td>0</td>\n",
       "      <td>0</td>\n",
       "    </tr>\n",
       "    <tr>\n",
       "      <th>19</th>\n",
       "      <td>t</td>\n",
       "      <td>0</td>\n",
       "      <td>0</td>\n",
       "    </tr>\n",
       "    <tr>\n",
       "      <th>20</th>\n",
       "      <td>u</td>\n",
       "      <td>0</td>\n",
       "      <td>0</td>\n",
       "    </tr>\n",
       "    <tr>\n",
       "      <th>21</th>\n",
       "      <td>v</td>\n",
       "      <td>0</td>\n",
       "      <td>0</td>\n",
       "    </tr>\n",
       "    <tr>\n",
       "      <th>22</th>\n",
       "      <td>w</td>\n",
       "      <td>0</td>\n",
       "      <td>0</td>\n",
       "    </tr>\n",
       "    <tr>\n",
       "      <th>23</th>\n",
       "      <td>x</td>\n",
       "      <td>0</td>\n",
       "      <td>0</td>\n",
       "    </tr>\n",
       "    <tr>\n",
       "      <th>24</th>\n",
       "      <td>y</td>\n",
       "      <td>0</td>\n",
       "      <td>0</td>\n",
       "    </tr>\n",
       "    <tr>\n",
       "      <th>25</th>\n",
       "      <td>z</td>\n",
       "      <td>0</td>\n",
       "      <td>0</td>\n",
       "    </tr>\n",
       "  </tbody>\n",
       "</table>\n",
       "</div>"
      ],
      "text/plain": [
       "   Letter  Value1  Value2\n",
       "0       a       0       0\n",
       "1       b       0       0\n",
       "2       c       0       0\n",
       "3       d       0       0\n",
       "4       e       1      10\n",
       "5       f       0       0\n",
       "6       g       0       0\n",
       "7       h       0       0\n",
       "8       i       0       0\n",
       "9       j       0       0\n",
       "10      k       0       0\n",
       "11      l       2      20\n",
       "12      m       0       0\n",
       "13      n       0       0\n",
       "14      o       1      10\n",
       "15      p       0       0\n",
       "16      q       0       0\n",
       "17      r       0       0\n",
       "18      s       0       0\n",
       "19      t       0       0\n",
       "20      u       0       0\n",
       "21      v       0       0\n",
       "22      w       0       0\n",
       "23      x       0       0\n",
       "24      y       0       0\n",
       "25      z       0       0"
      ]
     },
     "execution_count": 34,
     "metadata": {},
     "output_type": "execute_result"
    }
   ],
   "source": [
    "df_A_Z"
   ]
  },
  {
   "cell_type": "code",
   "execution_count": 43,
   "id": "97ef9cb2-9a06-4952-887a-c18c94bc8032",
   "metadata": {},
   "outputs": [
    {
     "name": "stdout",
     "output_type": "stream",
     "text": [
      "      Names  counts\n",
      "0     Alice      10\n",
      "1       abc       5\n",
      "2       abc       7\n",
      "3      abca       4\n",
      "4       Bob       6\n",
      "5   Charlie       1\n",
      "6     Alice      10\n",
      "7       abc       5\n",
      "8       abc       7\n",
      "9      abca       4\n",
      "10      Bob       6\n",
      "11  Charlie       1\n",
      "12    David       8\n"
     ]
    }
   ],
   "source": [
    "import pandas as pd\n",
    "\n",
    "# تعریف لیست‌ها\n",
    "names = ['Alice', 'abc', 'abc', 'abca', 'Bob', 'Charlie'] * 2 + ['David']\n",
    "counts = [10, 5, 7, 4, 6, 1] * 2 + [8]\n",
    "\n",
    "# ایجاد DataFrame\n",
    "df = pd.DataFrame({'Names': names, 'counts': counts})\n",
    "\n",
    "# نمایش DataFrame\n",
    "print(df)\n"
   ]
  },
  {
   "cell_type": "code",
   "execution_count": 44,
   "id": "a0ae8d78-1f7a-4568-9a0c-935748408ea8",
   "metadata": {},
   "outputs": [
    {
     "ename": "ValueError",
     "evalue": "Columns must be same length as key",
     "output_type": "error",
     "traceback": [
      "\u001b[0;31m---------------------------------------------------------------------------\u001b[0m",
      "\u001b[0;31mValueError\u001b[0m                                Traceback (most recent call last)",
      "Cell \u001b[0;32mIn[44], line 11\u001b[0m\n\u001b[1;32m      8\u001b[0m     \u001b[38;5;28;01mreturn\u001b[39;00m binary_vector\n\u001b[1;32m     10\u001b[0m \u001b[38;5;66;03m# اعمال تابع به ستون‌های مورد نظر\u001b[39;00m\n\u001b[0;32m---> 11\u001b[0m \u001b[43mdf\u001b[49m\u001b[43m[\u001b[49m\u001b[43m[\u001b[49m\u001b[38;5;124;43m'\u001b[39;49m\u001b[38;5;124;43mcolumn1\u001b[39;49m\u001b[38;5;124;43m'\u001b[39;49m\u001b[43m,\u001b[49m\u001b[43m \u001b[49m\u001b[38;5;124;43m'\u001b[39;49m\u001b[38;5;124;43mcolumn2\u001b[39;49m\u001b[38;5;124;43m'\u001b[39;49m\u001b[43m]\u001b[49m\u001b[43m]\u001b[49m \u001b[38;5;241m=\u001b[39m df\u001b[38;5;241m.\u001b[39mapply(\u001b[38;5;28;01mlambda\u001b[39;00m x: pd\u001b[38;5;241m.\u001b[39mSeries(string_to_binary_vector(x[\u001b[38;5;124m'\u001b[39m\u001b[38;5;124mNames\u001b[39m\u001b[38;5;124m'\u001b[39m], x[\u001b[38;5;124m'\u001b[39m\u001b[38;5;124mcounts\u001b[39m\u001b[38;5;124m'\u001b[39m])), axis\u001b[38;5;241m=\u001b[39m\u001b[38;5;241m1\u001b[39m)\n\u001b[1;32m     13\u001b[0m \u001b[38;5;66;03m# نمایش چند ردیف از DataFrame\u001b[39;00m\n\u001b[1;32m     14\u001b[0m \u001b[38;5;28mprint\u001b[39m(df\u001b[38;5;241m.\u001b[39mhead())\n",
      "File \u001b[0;32m/opt/conda/lib/python3.11/site-packages/pandas/core/frame.py:3968\u001b[0m, in \u001b[0;36mDataFrame.__setitem__\u001b[0;34m(self, key, value)\u001b[0m\n\u001b[1;32m   3966\u001b[0m     \u001b[38;5;28mself\u001b[39m\u001b[38;5;241m.\u001b[39m_setitem_frame(key, value)\n\u001b[1;32m   3967\u001b[0m \u001b[38;5;28;01melif\u001b[39;00m \u001b[38;5;28misinstance\u001b[39m(key, (Series, np\u001b[38;5;241m.\u001b[39mndarray, \u001b[38;5;28mlist\u001b[39m, Index)):\n\u001b[0;32m-> 3968\u001b[0m     \u001b[38;5;28;43mself\u001b[39;49m\u001b[38;5;241;43m.\u001b[39;49m\u001b[43m_setitem_array\u001b[49m\u001b[43m(\u001b[49m\u001b[43mkey\u001b[49m\u001b[43m,\u001b[49m\u001b[43m \u001b[49m\u001b[43mvalue\u001b[49m\u001b[43m)\u001b[49m\n\u001b[1;32m   3969\u001b[0m \u001b[38;5;28;01melif\u001b[39;00m \u001b[38;5;28misinstance\u001b[39m(value, DataFrame):\n\u001b[1;32m   3970\u001b[0m     \u001b[38;5;28mself\u001b[39m\u001b[38;5;241m.\u001b[39m_set_item_frame_value(key, value)\n",
      "File \u001b[0;32m/opt/conda/lib/python3.11/site-packages/pandas/core/frame.py:4010\u001b[0m, in \u001b[0;36mDataFrame._setitem_array\u001b[0;34m(self, key, value)\u001b[0m\n\u001b[1;32m   4005\u001b[0m \u001b[38;5;28;01melse\u001b[39;00m:\n\u001b[1;32m   4006\u001b[0m     \u001b[38;5;66;03m# Note: unlike self.iloc[:, indexer] = value, this will\u001b[39;00m\n\u001b[1;32m   4007\u001b[0m     \u001b[38;5;66;03m#  never try to overwrite values inplace\u001b[39;00m\n\u001b[1;32m   4009\u001b[0m     \u001b[38;5;28;01mif\u001b[39;00m \u001b[38;5;28misinstance\u001b[39m(value, DataFrame):\n\u001b[0;32m-> 4010\u001b[0m         \u001b[43mcheck_key_length\u001b[49m\u001b[43m(\u001b[49m\u001b[38;5;28;43mself\u001b[39;49m\u001b[38;5;241;43m.\u001b[39;49m\u001b[43mcolumns\u001b[49m\u001b[43m,\u001b[49m\u001b[43m \u001b[49m\u001b[43mkey\u001b[49m\u001b[43m,\u001b[49m\u001b[43m \u001b[49m\u001b[43mvalue\u001b[49m\u001b[43m)\u001b[49m\n\u001b[1;32m   4011\u001b[0m         \u001b[38;5;28;01mfor\u001b[39;00m k1, k2 \u001b[38;5;129;01min\u001b[39;00m \u001b[38;5;28mzip\u001b[39m(key, value\u001b[38;5;241m.\u001b[39mcolumns):\n\u001b[1;32m   4012\u001b[0m             \u001b[38;5;28mself\u001b[39m[k1] \u001b[38;5;241m=\u001b[39m value[k2]\n",
      "File \u001b[0;32m/opt/conda/lib/python3.11/site-packages/pandas/core/indexers/utils.py:401\u001b[0m, in \u001b[0;36mcheck_key_length\u001b[0;34m(columns, key, value)\u001b[0m\n\u001b[1;32m    399\u001b[0m \u001b[38;5;28;01mif\u001b[39;00m columns\u001b[38;5;241m.\u001b[39mis_unique:\n\u001b[1;32m    400\u001b[0m     \u001b[38;5;28;01mif\u001b[39;00m \u001b[38;5;28mlen\u001b[39m(value\u001b[38;5;241m.\u001b[39mcolumns) \u001b[38;5;241m!=\u001b[39m \u001b[38;5;28mlen\u001b[39m(key):\n\u001b[0;32m--> 401\u001b[0m         \u001b[38;5;28;01mraise\u001b[39;00m \u001b[38;5;167;01mValueError\u001b[39;00m(\u001b[38;5;124m\"\u001b[39m\u001b[38;5;124mColumns must be same length as key\u001b[39m\u001b[38;5;124m\"\u001b[39m)\n\u001b[1;32m    402\u001b[0m \u001b[38;5;28;01melse\u001b[39;00m:\n\u001b[1;32m    403\u001b[0m     \u001b[38;5;66;03m# Missing keys in columns are represented as -1\u001b[39;00m\n\u001b[1;32m    404\u001b[0m     \u001b[38;5;28;01mif\u001b[39;00m \u001b[38;5;28mlen\u001b[39m(columns\u001b[38;5;241m.\u001b[39mget_indexer_non_unique(key)[\u001b[38;5;241m0\u001b[39m]) \u001b[38;5;241m!=\u001b[39m \u001b[38;5;28mlen\u001b[39m(value\u001b[38;5;241m.\u001b[39mcolumns):\n",
      "\u001b[0;31mValueError\u001b[0m: Columns must be same length as key"
     ]
    }
   ],
   "source": [
    "import pandas as pd\n",
    "\n",
    "# تابع خود را تعریف کنید (مثالی از تابع string_to_binary_vector)\n",
    "def string_to_binary_vector(name, count):\n",
    "    # منطق تبدیل رشته به بردار دودویی را اینجا پیاده‌سازی کنید\n",
    "    # مثلا:\n",
    "    binary_vector = [int(c) for c in bin(count)[2:]]  # تبدیل تعداد به بردار دودویی\n",
    "    return binary_vector\n",
    "\n",
    "# اعمال تابع به ستون‌های مورد نظر\n",
    "df[['column1', 'column2']] = df.apply(lambda x: pd.Series(string_to_binary_vector(x['Names'], x['counts'])), axis=1)\n",
    "\n",
    "# نمایش چند ردیف از DataFrame\n",
    "print(df.head())\n"
   ]
  },
  {
   "cell_type": "code",
   "execution_count": 46,
   "id": "56556e06-c2c0-4302-8469-e5cb5cf23950",
   "metadata": {},
   "outputs": [
    {
     "name": "stdout",
     "output_type": "stream",
     "text": [
      "   Names  counts  column1  column2\n",
      "0  Alice      10        7       55\n",
      "1    abc       5        7       55\n",
      "2    abc       7        7       55\n",
      "3   abca       4        7       55\n",
      "4    Bob       6        7       55\n"
     ]
    }
   ],
   "source": [
    "import pandas as pd\n",
    "\n",
    "# تابع خود را تعریف کنید (مثالی از تابع string_to_binary_vector)\n",
    "def string_to_binary_vector(name, count):\n",
    "    # منطق تبدیل رشته به بردار دودویی را اینجا پیاده‌سازی کنید\n",
    "    # مثلا:\n",
    "    binary_vector = [7,55]  # تبدیل تعداد به بردار دودویی\n",
    "    return binary_vector\n",
    "\n",
    "# اعمال تابع به ستون‌های مورد نظر\n",
    "df[['column1', 'column2']] = df.apply(lambda x: pd.Series(string_to_binary_vector(x['Names'], x['counts'])), axis=1)\n",
    "\n",
    "# نمایش چند ردیف از DataFrame\n",
    "print(df.head())\n"
   ]
  },
  {
   "cell_type": "code",
   "execution_count": 54,
   "id": "db5ec33e-a88a-4310-abd2-cdaa9180ece5",
   "metadata": {},
   "outputs": [
    {
     "name": "stdout",
     "output_type": "stream",
     "text": [
      "Binary Result: 11\n",
      "Count of Ones: 2\n"
     ]
    }
   ],
   "source": [
    "# تعریف دو عدد\n",
    "num1 = 15  # 101 در باینری\n",
    "num2 = 12  # 111 در باینری\n",
    "\n",
    "# انجام عملگر bitwise OR\n",
    "result = num1 ^ num2\n",
    "\n",
    "# تبدیل عدد به فرمت باینری و حذف '0b' در ابتدای رشته\n",
    "binary_result = bin(result)[2:]\n",
    "\n",
    "# شمارش تعداد یک‌ها در رشته باینری\n",
    "count_ones = binary_result.count('1')\n",
    "\n",
    "print(\"Binary Result:\", binary_result)\n",
    "print(\"Count of Ones:\", count_ones)\n"
   ]
  },
  {
   "cell_type": "code",
   "execution_count": 53,
   "id": "9dc67b66-f4f2-4a93-9a47-14a3ceadf51f",
   "metadata": {},
   "outputs": [
    {
     "data": {
      "text/plain": [
       "3"
      ]
     },
     "execution_count": 53,
     "metadata": {},
     "output_type": "execute_result"
    }
   ],
   "source": [
    "result = num1 ^ num2\n",
    "result"
   ]
  },
  {
   "cell_type": "code",
   "execution_count": 56,
   "id": "fc396e17-51d7-4626-afe8-1a4aca64fe5d",
   "metadata": {},
   "outputs": [
    {
     "name": "stdout",
     "output_type": "stream",
     "text": [
      "Collecting Levenshtein\n",
      "\u001b[33m  WARNING: Retrying (Retry(total=4, connect=None, read=None, redirect=None, status=None)) after connection broken by 'ConnectTimeoutError(<pip._vendor.urllib3.connection.HTTPSConnection object at 0x7f4dcb56cdd0>, 'Connection to files.pythonhosted.org timed out. (connect timeout=15)')': /packages/73/d9/0dd6998bc686bfbbfef69eb424620a0f0776cd070776681c1239493f9ea2/Levenshtein-0.25.1-cp311-cp311-manylinux_2_17_x86_64.manylinux2014_x86_64.whl\u001b[0m\u001b[33m\n",
      "\u001b[0m\u001b[33m  WARNING: Retrying (Retry(total=3, connect=None, read=None, redirect=None, status=None)) after connection broken by 'ConnectTimeoutError(<pip._vendor.urllib3.connection.HTTPSConnection object at 0x7f4dcb56d610>, 'Connection to files.pythonhosted.org timed out. (connect timeout=15)')': /packages/73/d9/0dd6998bc686bfbbfef69eb424620a0f0776cd070776681c1239493f9ea2/Levenshtein-0.25.1-cp311-cp311-manylinux_2_17_x86_64.manylinux2014_x86_64.whl\u001b[0m\u001b[33m\n",
      "\u001b[0m\u001b[33m  WARNING: Retrying (Retry(total=2, connect=None, read=None, redirect=None, status=None)) after connection broken by 'ConnectTimeoutError(<pip._vendor.urllib3.connection.HTTPSConnection object at 0x7f4dcb56e110>, 'Connection to files.pythonhosted.org timed out. (connect timeout=15)')': /packages/73/d9/0dd6998bc686bfbbfef69eb424620a0f0776cd070776681c1239493f9ea2/Levenshtein-0.25.1-cp311-cp311-manylinux_2_17_x86_64.manylinux2014_x86_64.whl\u001b[0m\u001b[33m\n",
      "\u001b[0m\u001b[33m  WARNING: Retrying (Retry(total=1, connect=None, read=None, redirect=None, status=None)) after connection broken by 'ConnectTimeoutError(<pip._vendor.urllib3.connection.HTTPSConnection object at 0x7f4dcb56ea10>, 'Connection to files.pythonhosted.org timed out. (connect timeout=15)')': /packages/73/d9/0dd6998bc686bfbbfef69eb424620a0f0776cd070776681c1239493f9ea2/Levenshtein-0.25.1-cp311-cp311-manylinux_2_17_x86_64.manylinux2014_x86_64.whl\u001b[0m\u001b[33m\n",
      "\u001b[0m  Downloading Levenshtein-0.25.1-cp311-cp311-manylinux_2_17_x86_64.manylinux2014_x86_64.whl (177 kB)\n",
      "\u001b[2K     \u001b[90m━━━━━━━━━━━━━━━━━━━━━━━━━━━━━━━━━━━━━\u001b[0m \u001b[32m177.2/177.2 kB\u001b[0m \u001b[31m258.6 kB/s\u001b[0m eta \u001b[36m0:00:00\u001b[0ma \u001b[36m0:00:01\u001b[0m\n",
      "\u001b[?25hCollecting rapidfuzz<4.0.0,>=3.8.0 (from Levenshtein)\n",
      "  Downloading rapidfuzz-3.9.3-cp311-cp311-manylinux_2_17_x86_64.manylinux2014_x86_64.whl (3.4 MB)\n",
      "\u001b[2K     \u001b[90m━━━━━━━━━━━━━━━━━━━━━━━━━━━━━━━━━━━━━━━━\u001b[0m \u001b[32m3.4/3.4 MB\u001b[0m \u001b[31m260.7 kB/s\u001b[0m eta \u001b[36m0:00:00\u001b[0m00:01\u001b[0m00:01\u001b[0m\n",
      "\u001b[?25hInstalling collected packages: rapidfuzz, Levenshtein\n",
      "Successfully installed Levenshtein-0.25.1 rapidfuzz-3.9.3\n",
      "Note: you may need to restart the kernel to use updated packages.\n"
     ]
    }
   ],
   "source": [
    "pip install Levenshtein"
   ]
  },
  {
   "cell_type": "code",
   "execution_count": 58,
   "id": "f84b010f-afea-4be9-b01e-948f5d9e3ae8",
   "metadata": {},
   "outputs": [],
   "source": [
    "from difflib import SequenceMatcher"
   ]
  },
  {
   "cell_type": "code",
   "execution_count": 65,
   "id": "5a9842a9-cb51-4263-8039-ecd17afe7124",
   "metadata": {},
   "outputs": [
    {
     "name": "stdout",
     "output_type": "stream",
     "text": [
      "  Column1  Column2  Distance\n",
      "0     cat      car         1\n",
      "1     bat     ball         2\n",
      "2     dog   donkey         4\n",
      "3   apple  apricot         5\n"
     ]
    }
   ],
   "source": [
    "import pandas as pd\n",
    "from Levenshtein import distance\n",
    "from difflib import SequenceMatcher\n",
    "def distance_(a, b):\n",
    "    return SequenceMatcher(None, a, b).ratio\n",
    "    \n",
    "\n",
    "\n",
    "# ایجاد یک DataFrame نمونه\n",
    "data = {\n",
    "    'Column1': ['cat', 'bat', 'dog', 'apple'],\n",
    "    'Column2': ['car', 'ball', 'donkey', 'apricot']\n",
    "}\n",
    "df = pd.DataFrame(data)\n",
    "\n",
    "# محاسبه فاصله بین دو ستون با استفاده از فاصله لئونیسکی\n",
    "df['Distance'] = df.apply(lambda row: distance(row['Column1'], row['Column2']), axis=1)\n",
    "\n",
    "print(df)\n"
   ]
  },
  {
   "cell_type": "code",
   "execution_count": 66,
   "id": "743265ad-23ac-414a-8b07-0a29c21fd39e",
   "metadata": {},
   "outputs": [
    {
     "ename": "ValueError",
     "evalue": "Length of values (16) does not match length of index (4)",
     "output_type": "error",
     "traceback": [
      "\u001b[0;31m---------------------------------------------------------------------------\u001b[0m",
      "\u001b[0;31mValueError\u001b[0m                                Traceback (most recent call last)",
      "Cell \u001b[0;32mIn[66], line 16\u001b[0m\n\u001b[1;32m     13\u001b[0m combinations \u001b[38;5;241m=\u001b[39m \u001b[38;5;28mlist\u001b[39m(product(df[\u001b[38;5;124m'\u001b[39m\u001b[38;5;124mColumn1\u001b[39m\u001b[38;5;124m'\u001b[39m], df[\u001b[38;5;124m'\u001b[39m\u001b[38;5;124mColumn2\u001b[39m\u001b[38;5;124m'\u001b[39m]))\n\u001b[1;32m     15\u001b[0m \u001b[38;5;66;03m# محاسبه فاصله لونشتاین برای هر جفت\u001b[39;00m\n\u001b[0;32m---> 16\u001b[0m \u001b[43mdf\u001b[49m\u001b[43m[\u001b[49m\u001b[38;5;124;43m'\u001b[39;49m\u001b[38;5;124;43mLevenshtein_Distance\u001b[39;49m\u001b[38;5;124;43m'\u001b[39;49m\u001b[43m]\u001b[49m \u001b[38;5;241m=\u001b[39m [distance(c[\u001b[38;5;241m0\u001b[39m], c[\u001b[38;5;241m1\u001b[39m]) \u001b[38;5;28;01mfor\u001b[39;00m c \u001b[38;5;129;01min\u001b[39;00m combinations]\n\u001b[1;32m     18\u001b[0m \u001b[38;5;28mprint\u001b[39m(df)\n",
      "File \u001b[0;32m/opt/conda/lib/python3.11/site-packages/pandas/core/frame.py:3980\u001b[0m, in \u001b[0;36mDataFrame.__setitem__\u001b[0;34m(self, key, value)\u001b[0m\n\u001b[1;32m   3977\u001b[0m     \u001b[38;5;28mself\u001b[39m\u001b[38;5;241m.\u001b[39m_setitem_array([key], value)\n\u001b[1;32m   3978\u001b[0m \u001b[38;5;28;01melse\u001b[39;00m:\n\u001b[1;32m   3979\u001b[0m     \u001b[38;5;66;03m# set column\u001b[39;00m\n\u001b[0;32m-> 3980\u001b[0m     \u001b[38;5;28;43mself\u001b[39;49m\u001b[38;5;241;43m.\u001b[39;49m\u001b[43m_set_item\u001b[49m\u001b[43m(\u001b[49m\u001b[43mkey\u001b[49m\u001b[43m,\u001b[49m\u001b[43m \u001b[49m\u001b[43mvalue\u001b[49m\u001b[43m)\u001b[49m\n",
      "File \u001b[0;32m/opt/conda/lib/python3.11/site-packages/pandas/core/frame.py:4174\u001b[0m, in \u001b[0;36mDataFrame._set_item\u001b[0;34m(self, key, value)\u001b[0m\n\u001b[1;32m   4164\u001b[0m \u001b[38;5;28;01mdef\u001b[39;00m \u001b[38;5;21m_set_item\u001b[39m(\u001b[38;5;28mself\u001b[39m, key, value) \u001b[38;5;241m-\u001b[39m\u001b[38;5;241m>\u001b[39m \u001b[38;5;28;01mNone\u001b[39;00m:\n\u001b[1;32m   4165\u001b[0m \u001b[38;5;250m    \u001b[39m\u001b[38;5;124;03m\"\"\"\u001b[39;00m\n\u001b[1;32m   4166\u001b[0m \u001b[38;5;124;03m    Add series to DataFrame in specified column.\u001b[39;00m\n\u001b[1;32m   4167\u001b[0m \n\u001b[0;32m   (...)\u001b[0m\n\u001b[1;32m   4172\u001b[0m \u001b[38;5;124;03m    ensure homogeneity.\u001b[39;00m\n\u001b[1;32m   4173\u001b[0m \u001b[38;5;124;03m    \"\"\"\u001b[39;00m\n\u001b[0;32m-> 4174\u001b[0m     value \u001b[38;5;241m=\u001b[39m \u001b[38;5;28;43mself\u001b[39;49m\u001b[38;5;241;43m.\u001b[39;49m\u001b[43m_sanitize_column\u001b[49m\u001b[43m(\u001b[49m\u001b[43mvalue\u001b[49m\u001b[43m)\u001b[49m\n\u001b[1;32m   4176\u001b[0m     \u001b[38;5;28;01mif\u001b[39;00m (\n\u001b[1;32m   4177\u001b[0m         key \u001b[38;5;129;01min\u001b[39;00m \u001b[38;5;28mself\u001b[39m\u001b[38;5;241m.\u001b[39mcolumns\n\u001b[1;32m   4178\u001b[0m         \u001b[38;5;129;01mand\u001b[39;00m value\u001b[38;5;241m.\u001b[39mndim \u001b[38;5;241m==\u001b[39m \u001b[38;5;241m1\u001b[39m\n\u001b[1;32m   4179\u001b[0m         \u001b[38;5;129;01mand\u001b[39;00m \u001b[38;5;129;01mnot\u001b[39;00m is_extension_array_dtype(value)\n\u001b[1;32m   4180\u001b[0m     ):\n\u001b[1;32m   4181\u001b[0m         \u001b[38;5;66;03m# broadcast across multiple columns if necessary\u001b[39;00m\n\u001b[1;32m   4182\u001b[0m         \u001b[38;5;28;01mif\u001b[39;00m \u001b[38;5;129;01mnot\u001b[39;00m \u001b[38;5;28mself\u001b[39m\u001b[38;5;241m.\u001b[39mcolumns\u001b[38;5;241m.\u001b[39mis_unique \u001b[38;5;129;01mor\u001b[39;00m \u001b[38;5;28misinstance\u001b[39m(\u001b[38;5;28mself\u001b[39m\u001b[38;5;241m.\u001b[39mcolumns, MultiIndex):\n",
      "File \u001b[0;32m/opt/conda/lib/python3.11/site-packages/pandas/core/frame.py:4915\u001b[0m, in \u001b[0;36mDataFrame._sanitize_column\u001b[0;34m(self, value)\u001b[0m\n\u001b[1;32m   4912\u001b[0m     \u001b[38;5;28;01mreturn\u001b[39;00m _reindex_for_setitem(Series(value), \u001b[38;5;28mself\u001b[39m\u001b[38;5;241m.\u001b[39mindex)\n\u001b[1;32m   4914\u001b[0m \u001b[38;5;28;01mif\u001b[39;00m is_list_like(value):\n\u001b[0;32m-> 4915\u001b[0m     \u001b[43mcom\u001b[49m\u001b[38;5;241;43m.\u001b[39;49m\u001b[43mrequire_length_match\u001b[49m\u001b[43m(\u001b[49m\u001b[43mvalue\u001b[49m\u001b[43m,\u001b[49m\u001b[43m \u001b[49m\u001b[38;5;28;43mself\u001b[39;49m\u001b[38;5;241;43m.\u001b[39;49m\u001b[43mindex\u001b[49m\u001b[43m)\u001b[49m\n\u001b[1;32m   4916\u001b[0m \u001b[38;5;28;01mreturn\u001b[39;00m sanitize_array(value, \u001b[38;5;28mself\u001b[39m\u001b[38;5;241m.\u001b[39mindex, copy\u001b[38;5;241m=\u001b[39m\u001b[38;5;28;01mTrue\u001b[39;00m, allow_2d\u001b[38;5;241m=\u001b[39m\u001b[38;5;28;01mTrue\u001b[39;00m)\n",
      "File \u001b[0;32m/opt/conda/lib/python3.11/site-packages/pandas/core/common.py:571\u001b[0m, in \u001b[0;36mrequire_length_match\u001b[0;34m(data, index)\u001b[0m\n\u001b[1;32m    567\u001b[0m \u001b[38;5;250m\u001b[39m\u001b[38;5;124;03m\"\"\"\u001b[39;00m\n\u001b[1;32m    568\u001b[0m \u001b[38;5;124;03mCheck the length of data matches the length of the index.\u001b[39;00m\n\u001b[1;32m    569\u001b[0m \u001b[38;5;124;03m\"\"\"\u001b[39;00m\n\u001b[1;32m    570\u001b[0m \u001b[38;5;28;01mif\u001b[39;00m \u001b[38;5;28mlen\u001b[39m(data) \u001b[38;5;241m!=\u001b[39m \u001b[38;5;28mlen\u001b[39m(index):\n\u001b[0;32m--> 571\u001b[0m     \u001b[38;5;28;01mraise\u001b[39;00m \u001b[38;5;167;01mValueError\u001b[39;00m(\n\u001b[1;32m    572\u001b[0m         \u001b[38;5;124m\"\u001b[39m\u001b[38;5;124mLength of values \u001b[39m\u001b[38;5;124m\"\u001b[39m\n\u001b[1;32m    573\u001b[0m         \u001b[38;5;124mf\u001b[39m\u001b[38;5;124m\"\u001b[39m\u001b[38;5;124m(\u001b[39m\u001b[38;5;132;01m{\u001b[39;00m\u001b[38;5;28mlen\u001b[39m(data)\u001b[38;5;132;01m}\u001b[39;00m\u001b[38;5;124m) \u001b[39m\u001b[38;5;124m\"\u001b[39m\n\u001b[1;32m    574\u001b[0m         \u001b[38;5;124m\"\u001b[39m\u001b[38;5;124mdoes not match length of index \u001b[39m\u001b[38;5;124m\"\u001b[39m\n\u001b[1;32m    575\u001b[0m         \u001b[38;5;124mf\u001b[39m\u001b[38;5;124m\"\u001b[39m\u001b[38;5;124m(\u001b[39m\u001b[38;5;132;01m{\u001b[39;00m\u001b[38;5;28mlen\u001b[39m(index)\u001b[38;5;132;01m}\u001b[39;00m\u001b[38;5;124m)\u001b[39m\u001b[38;5;124m\"\u001b[39m\n\u001b[1;32m    576\u001b[0m     )\n",
      "\u001b[0;31mValueError\u001b[0m: Length of values (16) does not match length of index (4)"
     ]
    }
   ],
   "source": [
    "import pandas as pd\n",
    "from Levenshtein import distance\n",
    "from itertools import product\n",
    "\n",
    "# ایجاد یک DataFrame نمونه\n",
    "data = {\n",
    "    'Column1': ['cat', 'bat', 'dog', 'apple'],\n",
    "    'Column2': ['car', 'ball', 'donkey', 'apricot']\n",
    "}\n",
    "df = pd.DataFrame(data)\n",
    "\n",
    "# ترکیب تمام مقادیر ستون‌ها به هم\n",
    "combinations = list(product(df['Column1'], df['Column2']))\n",
    "\n",
    "# محاسبه فاصله لونشتاین برای هر جفت\n",
    "df['Levenshtein_Distance'] = [distance(c[0], c[1]) for c in combinations]\n",
    "\n",
    "print(df)\n"
   ]
  },
  {
   "cell_type": "code",
   "execution_count": 69,
   "id": "b4cf16d8-1bdd-4839-801b-7b0352f30ace",
   "metadata": {},
   "outputs": [
    {
     "name": "stdout",
     "output_type": "stream",
     "text": [
      "   A  B\n",
      "0  1  4\n",
      "1  2  5\n",
      "2  3  6\n"
     ]
    }
   ],
   "source": [
    "import pandas as pd\n",
    "\n",
    "# ایجاد دیتافریم‌های نمونه\n",
    "data1 = {'A': [1, 2, 3], 'B': [4, 5, 6]}\n",
    "data2 = {'A': [3, 2, 1], 'C': [7, 8, 9]}\n",
    "df1 = pd.DataFrame(data1)\n",
    "df2 = pd.DataFrame(data2)\n",
    "\n",
    "# ادغام دیتافریم‌ها بر اساس ستون A\n",
    "result = pd.merge(df1, df2, on='A')\n",
    "\n",
    "print(df1)\n"
   ]
  },
  {
   "cell_type": "code",
   "execution_count": 71,
   "id": "5be240b5-2eae-4450-bd5d-8f70cfba4b87",
   "metadata": {},
   "outputs": [
    {
     "name": "stdout",
     "output_type": "stream",
     "text": [
      "   team_x  points team_y  assists\n",
      "0       A      18      A        4\n",
      "1       A      18      B        9\n",
      "2       A      18      F        8\n",
      "3       B      22      A        4\n",
      "4       B      22      B        9\n",
      "5       B      22      F        8\n",
      "6       C      19      A        4\n",
      "7       C      19      B        9\n",
      "8       C      19      F        8\n",
      "9       D      14      A        4\n",
      "10      D      14      B        9\n",
      "11      D      14      F        8\n"
     ]
    }
   ],
   "source": [
    "import pandas as pd\n",
    "\n",
    "# ایجاد دیتافریم‌های نمونه\n",
    "data1 = {'team': ['A', 'B', 'C', 'D'], 'points': [18, 22, 19, 14]}\n",
    "data2 = {'team': ['A', 'B', 'F'], 'assists': [4, 9, 8]}\n",
    "df1 = pd.DataFrame(data1)\n",
    "df2 = pd.DataFrame(data2)\n",
    "\n",
    "# ایجاد ستون مشترک برای cross join\n",
    "df1['key'] = 0\n",
    "df2['key'] = 0\n",
    "\n",
    "# انجام cross join\n",
    "result = pd.merge(df1, df2, on='key', how='outer')\n",
    "\n",
    "# حذف ستون کلیدی\n",
    "del result['key']\n",
    "\n",
    "print(result)\n"
   ]
  },
  {
   "cell_type": "code",
   "execution_count": 77,
   "id": "fd9802dd-5414-471e-b3be-53c8014c2bd4",
   "metadata": {},
   "outputs": [
    {
     "name": "stdout",
     "output_type": "stream",
     "text": [
      "1\n"
     ]
    }
   ],
   "source": [
    "def count_ones_fast(num):\n",
    "    count = 0\n",
    "    while num:\n",
    "        count += num & 1\n",
    "        num >>= 1\n",
    "    return count\n",
    "\n",
    "# استفاده از تابع\n",
    "result = 7 ^ 15\n",
    "count_ones = count_ones_fast(result)\n",
    "\n",
    "print(count_ones)"
   ]
  },
  {
   "cell_type": "code",
   "execution_count": 78,
   "id": "b4fd408c-50f9-40dc-b38a-76664dc1a014",
   "metadata": {},
   "outputs": [
    {
     "name": "stdout",
     "output_type": "stream",
     "text": [
      "           A         B\n",
      "0   0.548814  0.715189\n",
      "3   0.602763  0.544883\n",
      "6   0.423655  0.645894\n",
      "9   0.437587  0.891773\n",
      "12  0.963663  0.383442\n",
      "15  0.791725  0.528895\n",
      "           A         B\n",
      "6   0.423655  0.645894\n",
      "9   0.437587  0.891773\n",
      "12  0.963663  0.383442\n"
     ]
    }
   ],
   "source": [
    "import pandas as pd\n",
    "import numpy as np\n",
    "\n",
    "np.random.seed(0)\n",
    "df = pd.DataFrame(np.random.rand(6,2), index=range(0,18,3), columns=['A', 'B'])\n",
    "print(df)\n",
    "\n",
    "# انتخاب سطرهای 3، 4، و 5\n",
    "selected_rows = df.iloc[[2, 3, 4]]\n",
    "print(selected_rows)\n"
   ]
  },
  {
   "cell_type": "code",
   "execution_count": 80,
   "id": "b64b8b78-6409-43c7-9504-e11f2a1a8422",
   "metadata": {},
   "outputs": [
    {
     "name": "stdout",
     "output_type": "stream",
     "text": [
      "Empty DataFrame\n",
      "Columns: [ستون 1, ستون 2, ستون 3]\n",
      "Index: []\n"
     ]
    }
   ],
   "source": [
    "import pandas as pd\n",
    "\n",
    "# ایجاد لیست‌های خالی برای ستون‌ها\n",
    "col1 = []\n",
    "col2 = []\n",
    "col3 = []\n",
    "\n",
    "\n",
    "# مقداردهی ستون‌ها در طی یک حلقه for\n",
    "for i in range(10):\n",
    "    col1.append(i)\n",
    "    col2.append([i, i+1, i+2])\n",
    "    col3.append(i * 3)\n",
    "\n",
    "# ایجاد DataFrame از لیست‌های\n",
    "\n",
    "\n",
    "print(df)"
   ]
  },
  {
   "cell_type": "code",
   "execution_count": 82,
   "id": "091f0d72-3ee7-4e9a-b477-6f04c3215c61",
   "metadata": {},
   "outputs": [
    {
     "name": "stdout",
     "output_type": "stream",
     "text": [
      "Collecting polars\n",
      "  Downloading polars-0.20.31-cp38-abi3-manylinux_2_17_x86_64.manylinux2014_x86_64.whl (28.8 MB)\n",
      "\u001b[2K     \u001b[90m━━━━━━━━━━━━━━━━━━━━━━━━━━━━━━━━━━━━━━━\u001b[0m \u001b[32m28.8/28.8 MB\u001b[0m \u001b[31m242.1 kB/s\u001b[0m eta \u001b[36m0:00:00\u001b[0m00:01\u001b[0m00:04\u001b[0m\n",
      "\u001b[?25hInstalling collected packages: polars\n",
      "Successfully installed polars-0.20.31\n",
      "Note: you may need to restart the kernel to use updated packages.\n"
     ]
    }
   ],
   "source": [
    "pip install polars"
   ]
  },
  {
   "cell_type": "code",
   "execution_count": 85,
   "id": "5bcf55c3-b94c-418e-b665-c15413386615",
   "metadata": {},
   "outputs": [
    {
     "data": {
      "text/html": [
       "<div><style>\n",
       ".dataframe > thead > tr,\n",
       ".dataframe > tbody > tr {\n",
       "  text-align: right;\n",
       "  white-space: pre-wrap;\n",
       "}\n",
       "</style>\n",
       "<small>shape: (1, 3)</small><table border=\"1\" class=\"dataframe\"><thead><tr><th>ستون 1</th><th>ستون 2</th><th>ستون 3</th></tr><tr><td>f64</td><td>f64</td><td>f64</td></tr></thead><tbody><tr><td>0.0</td><td>0.0</td><td>0.0</td></tr></tbody></table></div>"
      ],
      "text/plain": [
       "shape: (1, 3)\n",
       "┌────────┬────────┬────────┐\n",
       "│ ستون 1 ┆ ستون 2 ┆ ستون 3 │\n",
       "│ ---    ┆ ---    ┆ ---    │\n",
       "│ f64    ┆ f64    ┆ f64    │\n",
       "╞════════╪════════╪════════╡\n",
       "│ 0.0    ┆ 0.0    ┆ 0.0    │\n",
       "└────────┴────────┴────────┘"
      ]
     },
     "execution_count": 85,
     "metadata": {},
     "output_type": "execute_result"
    }
   ],
   "source": [
    "import polars as pl\n",
    "\n",
    "# فرض کنید df همان DataFrame بزرگ شماست\n",
    "df = pl.DataFrame(df)\n",
    "result = df.select(pl.all().sum())\n",
    "result"
   ]
  },
  {
   "cell_type": "code",
   "execution_count": 92,
   "id": "6c7ce676-1bb4-41f4-b133-19714b8f0708",
   "metadata": {},
   "outputs": [],
   "source": [
    "import numpy as np\n",
    "import polars as pl\n",
    "\n",
    "# ایجاد یک DataFrame با 36 میلیون رکورد و 10 ستون\n",
    "num_rows = 36000000\n",
    "num_cols = 10\n",
    "data = np.random.rand(num_rows, num_cols)\n",
    "\n",
    "# تبدیل داده‌ها به DataFrame Polars\n",
    "df = pl.DataFrame(data, schema=[f'col_{i}' for i in range(num_cols)])\n"
   ]
  },
  {
   "cell_type": "code",
   "execution_count": 93,
   "id": "02685a6d-feaf-4cb6-aa0a-dd12909eaeb5",
   "metadata": {},
   "outputs": [
    {
     "data": {
      "text/html": [
       "<div><style>\n",
       ".dataframe > thead > tr,\n",
       ".dataframe > tbody > tr {\n",
       "  text-align: right;\n",
       "  white-space: pre-wrap;\n",
       "}\n",
       "</style>\n",
       "<small>shape: (36_000_000, 10)</small><table border=\"1\" class=\"dataframe\"><thead><tr><th>col_0</th><th>col_1</th><th>col_2</th><th>col_3</th><th>col_4</th><th>col_5</th><th>col_6</th><th>col_7</th><th>col_8</th><th>col_9</th></tr><tr><td>f64</td><td>f64</td><td>f64</td><td>f64</td><td>f64</td><td>f64</td><td>f64</td><td>f64</td><td>f64</td><td>f64</td></tr></thead><tbody><tr><td>0.578835</td><td>0.016242</td><td>0.897595</td><td>0.602582</td><td>0.37758</td><td>0.097969</td><td>0.261463</td><td>0.208275</td><td>0.524483</td><td>0.151028</td></tr><tr><td>0.795036</td><td>0.419714</td><td>0.006249</td><td>0.124994</td><td>0.884707</td><td>0.016419</td><td>0.491335</td><td>0.581072</td><td>0.173498</td><td>0.671198</td></tr><tr><td>0.66111</td><td>0.342684</td><td>0.010612</td><td>0.457727</td><td>0.00686</td><td>0.024865</td><td>0.386578</td><td>0.9589</td><td>0.109004</td><td>0.774686</td></tr><tr><td>0.720678</td><td>0.310497</td><td>0.391657</td><td>0.802184</td><td>0.772945</td><td>0.89246</td><td>0.664217</td><td>0.368195</td><td>0.425614</td><td>0.545656</td></tr><tr><td>0.065295</td><td>0.984227</td><td>0.769026</td><td>0.079531</td><td>0.746014</td><td>0.998235</td><td>0.881166</td><td>0.006453</td><td>0.515522</td><td>0.873776</td></tr><tr><td>&hellip;</td><td>&hellip;</td><td>&hellip;</td><td>&hellip;</td><td>&hellip;</td><td>&hellip;</td><td>&hellip;</td><td>&hellip;</td><td>&hellip;</td><td>&hellip;</td></tr><tr><td>0.80534</td><td>0.558938</td><td>0.937837</td><td>0.658842</td><td>0.962827</td><td>0.826531</td><td>0.161046</td><td>0.872062</td><td>0.952419</td><td>0.199167</td></tr><tr><td>0.593508</td><td>0.76766</td><td>0.107407</td><td>0.385199</td><td>0.566138</td><td>0.411429</td><td>0.82444</td><td>0.412491</td><td>0.904368</td><td>0.679338</td></tr><tr><td>0.709388</td><td>0.402645</td><td>0.814562</td><td>0.52457</td><td>0.810041</td><td>0.53943</td><td>0.821836</td><td>0.710362</td><td>0.752504</td><td>0.39475</td></tr><tr><td>0.367184</td><td>0.809315</td><td>0.353004</td><td>0.55974</td><td>0.88955</td><td>0.571676</td><td>0.152791</td><td>0.556517</td><td>0.387966</td><td>0.34222</td></tr><tr><td>0.647388</td><td>0.807652</td><td>0.403096</td><td>0.84265</td><td>0.603018</td><td>0.825014</td><td>0.622334</td><td>0.160482</td><td>0.16</td><td>0.124748</td></tr></tbody></table></div>"
      ],
      "text/plain": [
       "shape: (36_000_000, 10)\n",
       "┌──────────┬──────────┬──────────┬──────────┬───┬──────────┬──────────┬──────────┬──────────┐\n",
       "│ col_0    ┆ col_1    ┆ col_2    ┆ col_3    ┆ … ┆ col_6    ┆ col_7    ┆ col_8    ┆ col_9    │\n",
       "│ ---      ┆ ---      ┆ ---      ┆ ---      ┆   ┆ ---      ┆ ---      ┆ ---      ┆ ---      │\n",
       "│ f64      ┆ f64      ┆ f64      ┆ f64      ┆   ┆ f64      ┆ f64      ┆ f64      ┆ f64      │\n",
       "╞══════════╪══════════╪══════════╪══════════╪═══╪══════════╪══════════╪══════════╪══════════╡\n",
       "│ 0.578835 ┆ 0.016242 ┆ 0.897595 ┆ 0.602582 ┆ … ┆ 0.261463 ┆ 0.208275 ┆ 0.524483 ┆ 0.151028 │\n",
       "│ 0.795036 ┆ 0.419714 ┆ 0.006249 ┆ 0.124994 ┆ … ┆ 0.491335 ┆ 0.581072 ┆ 0.173498 ┆ 0.671198 │\n",
       "│ 0.66111  ┆ 0.342684 ┆ 0.010612 ┆ 0.457727 ┆ … ┆ 0.386578 ┆ 0.9589   ┆ 0.109004 ┆ 0.774686 │\n",
       "│ 0.720678 ┆ 0.310497 ┆ 0.391657 ┆ 0.802184 ┆ … ┆ 0.664217 ┆ 0.368195 ┆ 0.425614 ┆ 0.545656 │\n",
       "│ 0.065295 ┆ 0.984227 ┆ 0.769026 ┆ 0.079531 ┆ … ┆ 0.881166 ┆ 0.006453 ┆ 0.515522 ┆ 0.873776 │\n",
       "│ …        ┆ …        ┆ …        ┆ …        ┆ … ┆ …        ┆ …        ┆ …        ┆ …        │\n",
       "│ 0.80534  ┆ 0.558938 ┆ 0.937837 ┆ 0.658842 ┆ … ┆ 0.161046 ┆ 0.872062 ┆ 0.952419 ┆ 0.199167 │\n",
       "│ 0.593508 ┆ 0.76766  ┆ 0.107407 ┆ 0.385199 ┆ … ┆ 0.82444  ┆ 0.412491 ┆ 0.904368 ┆ 0.679338 │\n",
       "│ 0.709388 ┆ 0.402645 ┆ 0.814562 ┆ 0.52457  ┆ … ┆ 0.821836 ┆ 0.710362 ┆ 0.752504 ┆ 0.39475  │\n",
       "│ 0.367184 ┆ 0.809315 ┆ 0.353004 ┆ 0.55974  ┆ … ┆ 0.152791 ┆ 0.556517 ┆ 0.387966 ┆ 0.34222  │\n",
       "│ 0.647388 ┆ 0.807652 ┆ 0.403096 ┆ 0.84265  ┆ … ┆ 0.622334 ┆ 0.160482 ┆ 0.16     ┆ 0.124748 │\n",
       "└──────────┴──────────┴──────────┴──────────┴───┴──────────┴──────────┴──────────┴──────────┘"
      ]
     },
     "execution_count": 93,
     "metadata": {},
     "output_type": "execute_result"
    }
   ],
   "source": [
    "df"
   ]
  },
  {
   "cell_type": "code",
   "execution_count": 1,
   "id": "90e098de-d01a-4a33-9ba4-65081d6590c7",
   "metadata": {},
   "outputs": [
    {
     "ename": "NameError",
     "evalue": "name 'df' is not defined",
     "output_type": "error",
     "traceback": [
      "\u001b[0;31m---------------------------------------------------------------------------\u001b[0m",
      "\u001b[0;31mNameError\u001b[0m                                 Traceback (most recent call last)",
      "Cell \u001b[0;32mIn[1], line 2\u001b[0m\n\u001b[1;32m      1\u001b[0m \u001b[38;5;66;03m# محاسبه مجموع عناصر هر ردیف و افزودن به DataFrame\u001b[39;00m\n\u001b[0;32m----> 2\u001b[0m df \u001b[38;5;241m=\u001b[39m \u001b[43mdf\u001b[49m\u001b[38;5;241m.\u001b[39mwith_columns(\n\u001b[1;32m      3\u001b[0m     pl\u001b[38;5;241m.\u001b[39msum_horizontal([pl\u001b[38;5;241m.\u001b[39mcol(\u001b[38;5;124mf\u001b[39m\u001b[38;5;124m'\u001b[39m\u001b[38;5;124mcol_\u001b[39m\u001b[38;5;132;01m{\u001b[39;00mi\u001b[38;5;132;01m}\u001b[39;00m\u001b[38;5;124m'\u001b[39m) \u001b[38;5;28;01mfor\u001b[39;00m i \u001b[38;5;129;01min\u001b[39;00m \u001b[38;5;28mrange\u001b[39m(num_cols)])\u001b[38;5;241m.\u001b[39malias(\u001b[38;5;124m'\u001b[39m\u001b[38;5;124msum\u001b[39m\u001b[38;5;124m'\u001b[39m)\n\u001b[1;32m      4\u001b[0m )\n\u001b[1;32m      6\u001b[0m \u001b[38;5;66;03m# نمایش چند سطر اول\u001b[39;00m\n\u001b[1;32m      7\u001b[0m \u001b[38;5;28mprint\u001b[39m(df\u001b[38;5;241m.\u001b[39mhead())\n",
      "\u001b[0;31mNameError\u001b[0m: name 'df' is not defined"
     ]
    }
   ],
   "source": [
    "# محاسبه مجموع عناصر هر ردیف و افزودن به DataFrame\n",
    "df = df.with_columns(\n",
    "    pl.sum_horizontal([pl.col(f'col_{i}') for i in range(num_cols)]).alias('sum')\n",
    ")\n",
    "\n",
    "# نمایش چند سطر اول\n",
    "print(df.head())\n",
    "# df[pl.col('col_0')]\n"
   ]
  },
  {
   "cell_type": "code",
   "execution_count": 2,
   "id": "e3609915-66d3-4936-bb44-0fe89caf7118",
   "metadata": {},
   "outputs": [
    {
     "name": "stderr",
     "output_type": "stream",
     "text": [
      "/tmp/ipykernel_6487/635505112.py:23: DeprecationWarning: `apply` is deprecated. It has been renamed to `map_elements`.\n",
      "  pl.struct(['col_1', 'col_2']).apply(lambda row: calculate_distance(row['col_1'], row['col_2'])).alias('distance')\n",
      "/tmp/ipykernel_6487/635505112.py:22: MapWithoutReturnDtypeWarning: Calling `map_elements` without specifying `return_dtype` can lead to unpredictable results. Specify `return_dtype` to silence this warning.\n",
      "  df_polars = df_polars.with_columns(\n"
     ]
    },
    {
     "name": "stdout",
     "output_type": "stream",
     "text": [
      "shape: (5, 3)\n",
      "┌────────┬────────┬──────────┐\n",
      "│ col_1  ┆ col_2  ┆ distance │\n",
      "│ ---    ┆ ---    ┆ ---      │\n",
      "│ str    ┆ str    ┆ f64      │\n",
      "╞════════╪════════╪══════════╡\n",
      "│ 167190 ┆ 901236 ┆ 0.333333 │\n",
      "│ 935818 ┆ 85661  ┆ 0.363636 │\n",
      "│ 117893 ┆ 746923 ┆ 0.5      │\n",
      "│ 707789 ┆ 428573 ┆ 0.166667 │\n",
      "│ 814446 ┆ 161758 ┆ 0.166667 │\n",
      "└────────┴────────┴──────────┘\n"
     ]
    }
   ],
   "source": [
    "import pandas as pd\n",
    "import numpy as np\n",
    "import polars as pl\n",
    "import difflib\n",
    "\n",
    "# ایجاد یک DataFrame با 36 میلیون رکورد و دو ستون از اعداد به صورت رشته\n",
    "num_rows = 3000000\n",
    "data = {\n",
    "    'col_1': np.random.randint(0, 1000000, size=num_rows).astype(str),\n",
    "    'col_2': np.random.randint(0, 1000000, size=num_rows).astype(str)\n",
    "}\n",
    "df_pandas = pd.DataFrame(data)\n",
    "\n",
    "# تبدیل pandas DataFrame به Polars DataFrame\n",
    "df_polars = pl.from_pandas(df_pandas)\n",
    "\n",
    "# تعریف تابع محاسبه فاصله با difflib\n",
    "def calculate_distance(str1, str2):\n",
    "    return difflib.SequenceMatcher(None, str1, str2).ratio()\n",
    "\n",
    "# استفاده از apply در Polars برای محاسبه فاصله بین دو ستون\n",
    "df_polars = df_polars.with_columns(\n",
    "    pl.struct(['col_1', 'col_2']).apply(lambda row: calculate_distance(row['col_1'], row['col_2'])).alias('distance')\n",
    ")\n",
    "\n",
    "# نمایش چند سطر اول\n",
    "print(df_polars.head())\n"
   ]
  },
  {
   "cell_type": "code",
   "execution_count": 7,
   "id": "14a4c414-d546-4453-8bc2-8c917a10ba08",
   "metadata": {},
   "outputs": [],
   "source": [
    "import pandas as pd\n",
    "import numpy as np\n",
    "import polars as pl\n",
    "import difflib\n",
    "\n",
    "# ایجاد یک DataFrame با 36 میلیون رکورد و دو ستون از اعداد به صورت رشته\n",
    "num_rows = 13000000\n",
    "data = {\n",
    "    'col_1': np.random.randint(0, 1000000, size=num_rows).astype(str),\n",
    "    'col_2': np.random.randint(0, 1000000, size=num_rows).astype(str)\n",
    "}\n",
    "df_pandas = pd.DataFrame(data)\n",
    "\n",
    "# تبدیل pandas DataFrame به Polars DataFrame\n",
    "df_polars = pl.from_pandas(df_pandas)"
   ]
  },
  {
   "cell_type": "code",
   "execution_count": 8,
   "id": "5f6d92c2-edde-4dc8-9f94-a23293bd2ad0",
   "metadata": {},
   "outputs": [
    {
     "name": "stdout",
     "output_type": "stream",
     "text": [
      "shape: (5, 3)\n",
      "┌────────┬────────┬──────────┐\n",
      "│ col_1  ┆ col_2  ┆ distance │\n",
      "│ ---    ┆ ---    ┆ ---      │\n",
      "│ str    ┆ str    ┆ f32      │\n",
      "╞════════╪════════╪══════════╡\n",
      "│ 444918 ┆ 640048 ┆ 0.5      │\n",
      "│ 549711 ┆ 241396 ┆ 0.333333 │\n",
      "│ 29030  ┆ 741833 ┆ 0.181818 │\n",
      "│ 140750 ┆ 757250 ┆ 0.5      │\n",
      "│ 489141 ┆ 633758 ┆ 0.166667 │\n",
      "└────────┴────────┴──────────┘\n",
      "CPU times: user 3min 5s, sys: 277 ms, total: 3min 6s\n",
      "Wall time: 3min 6s\n"
     ]
    }
   ],
   "source": [
    "%%time\n",
    "# تعریف تابع محاسبه فاصله با difflib\n",
    "def calculate_distance(str1, str2):\n",
    "    return difflib.SequenceMatcher(None, str1, str2).ratio()\n",
    "\n",
    "# استفاده از map_elements در Polars برای محاسبه فاصله بین دو ستون\n",
    "df_polars = df_polars.with_columns(\n",
    "    pl.struct(['col_1', 'col_2']).map_elements(\n",
    "        lambda row: calculate_distance(row['col_1'], row['col_2']),\n",
    "        return_dtype=pl.Float32\n",
    "    ).alias('distance')\n",
    ")\n",
    "\n",
    "# نمایش چند سطر اول\n",
    "print(df_polars.head())"
   ]
  }
 ],
 "metadata": {
  "kernelspec": {
   "display_name": "Python 3 (ipykernel)",
   "language": "python",
   "name": "python3"
  },
  "language_info": {
   "codemirror_mode": {
    "name": "ipython",
    "version": 3
   },
   "file_extension": ".py",
   "mimetype": "text/x-python",
   "name": "python",
   "nbconvert_exporter": "python",
   "pygments_lexer": "ipython3",
   "version": "3.11.4"
  }
 },
 "nbformat": 4,
 "nbformat_minor": 5
}
